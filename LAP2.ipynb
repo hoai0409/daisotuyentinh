{
  "nbformat": 4,
  "nbformat_minor": 0,
  "metadata": {
    "colab": {
      "provenance": []
    },
    "kernelspec": {
      "name": "python3",
      "display_name": "Python 3"
    },
    "language_info": {
      "name": "python"
    }
  },
  "cells": [
    {
      "cell_type": "code",
      "execution_count": null,
      "metadata": {
        "id": "08HeEeC1Wfck"
      },
      "outputs": [],
      "source": []
    },
    {
      "cell_type": "markdown",
      "source": [
        "# BAI TAP"
      ],
      "metadata": {
        "id": "7ruvJIHiWgSi"
      }
    },
    {
      "cell_type": "code",
      "source": [
        "def scale(a, v):\n",
        " return [a*vi for vi in v]\n",
        "v = [3,5,7]\n",
        "scale(10, v)"
      ],
      "metadata": {
        "colab": {
          "base_uri": "https://localhost:8080/"
        },
        "id": "XBL-NvQ-WjrB",
        "outputId": "7a513d3e-c524-4d0c-e89d-07ca2f93b1d0"
      },
      "execution_count": null,
      "outputs": [
        {
          "output_type": "execute_result",
          "data": {
            "text/plain": [
              "[30, 50, 70]"
            ]
          },
          "metadata": {},
          "execution_count": 7
        }
      ]
    },
    {
      "cell_type": "code",
      "source": [
        "def sumvector(v, w):\n",
        " return [vi+wi for (vi, wi) in zip(v, w)]\n",
        "v = [3,5,7]\n",
        "w = [2,4,6]\n",
        "sumvector(v, w)"
      ],
      "metadata": {
        "colab": {
          "base_uri": "https://localhost:8080/"
        },
        "id": "7lNZmsaUW290",
        "outputId": "c1e5259c-47b8-445d-8d37-7b3f3eb15183"
      },
      "execution_count": null,
      "outputs": [
        {
          "output_type": "execute_result",
          "data": {
            "text/plain": [
              "[5, 9, 13]"
            ]
          },
          "metadata": {},
          "execution_count": 4
        }
      ]
    },
    {
      "cell_type": "code",
      "source": [
        "def dotvector(v, w):\n",
        "  return sum([vi*wi for (vi, wi) in zip(v, w)])\n",
        "dotvector(v, w)"
      ],
      "metadata": {
        "colab": {
          "base_uri": "https://localhost:8080/"
        },
        "id": "c--ekVBPXbqq",
        "outputId": "2fff49f2-135e-45c8-89aa-b3025566e21d"
      },
      "execution_count": null,
      "outputs": [
        {
          "output_type": "execute_result",
          "data": {
            "text/plain": [
              "68"
            ]
          },
          "metadata": {},
          "execution_count": 6
        }
      ]
    },
    {
      "cell_type": "code",
      "source": [
        "def lenvector(v):\n",
        " return dotvector(v,v)\n",
        "lenvector(w)"
      ],
      "metadata": {
        "colab": {
          "base_uri": "https://localhost:8080/"
        },
        "id": "ZcTRxYPzXwsw",
        "outputId": "0c927ab5-a58d-4f8e-fb6b-f3029796b135"
      },
      "execution_count": null,
      "outputs": [
        {
          "output_type": "execute_result",
          "data": {
            "text/plain": [
              "56"
            ]
          },
          "metadata": {},
          "execution_count": 8
        }
      ]
    },
    {
      "cell_type": "code",
      "source": [
        "import numpy as np\n",
        "scores = np.array([-1, 1, 2, -3, 5, -4])\n",
        "scores"
      ],
      "metadata": {
        "colab": {
          "base_uri": "https://localhost:8080/"
        },
        "id": "1Vv9K8gJYiEQ",
        "outputId": "2ae92cf2-bef2-475b-c733-02becd4b9242"
      },
      "execution_count": null,
      "outputs": [
        {
          "output_type": "execute_result",
          "data": {
            "text/plain": [
              "array([-1,  1,  2, -3,  5, -4])"
            ]
          },
          "metadata": {},
          "execution_count": 16
        }
      ]
    },
    {
      "cell_type": "code",
      "source": [
        "import numpy as np\n",
        "scores = np.array([-1, 1, 2, -3, 5, -4])\n",
        "scores >= 0\n"
      ],
      "metadata": {
        "colab": {
          "base_uri": "https://localhost:8080/"
        },
        "id": "BLq7M4JKYCxo",
        "outputId": "d26d836e-cbf7-4f94-97fe-e929ab3e832b"
      },
      "execution_count": null,
      "outputs": [
        {
          "output_type": "execute_result",
          "data": {
            "text/plain": [
              "array([ True, False, False,  True, False,  True])"
            ]
          },
          "metadata": {},
          "execution_count": 14
        }
      ]
    },
    {
      "cell_type": "code",
      "source": [
        "import numpy as np\n",
        "scores = np.array([-1, 1, 2, -3, 5, -4])\n",
        "scores < 0"
      ],
      "metadata": {
        "colab": {
          "base_uri": "https://localhost:8080/"
        },
        "id": "fKqq_szVYuqf",
        "outputId": "e38d8600-ad25-4b42-8a61-7b35b5779ba9"
      },
      "execution_count": null,
      "outputs": [
        {
          "output_type": "execute_result",
          "data": {
            "text/plain": [
              "array([ True, False, False,  True, False,  True])"
            ]
          },
          "metadata": {},
          "execution_count": 17
        }
      ]
    },
    {
      "cell_type": "code",
      "source": [
        "import numpy as np\n",
        "scores = np.array([-1, 1, 2, -3, 5, -4])\n",
        "np.select([scores >=0, scores < 0],['so duong', 'so am'], default='khong xac dinh')"
      ],
      "metadata": {
        "colab": {
          "base_uri": "https://localhost:8080/"
        },
        "id": "YqNUWgUpYyxh",
        "outputId": "c696d970-0880-4b95-cedd-bfa7901284de"
      },
      "execution_count": null,
      "outputs": [
        {
          "output_type": "execute_result",
          "data": {
            "text/plain": [
              "array(['so am', 'so duong', 'so duong', 'so am', 'so duong', 'so am'],\n",
              "      dtype='<U14')"
            ]
          },
          "metadata": {},
          "execution_count": 23
        }
      ]
    },
    {
      "cell_type": "code",
      "source": [
        "import numpy as np\n",
        "scores = np.array([-1, 1, 2, -3, 5, -4])\n",
        "scores = np.array([-1, 1, 2, 0, -3, 5, 0, -4])\n",
        "np.select([scores >0, scores ==0, scores < 0],['so duong', 'so 0', 'so am'], default='khong xac dinh')"
      ],
      "metadata": {
        "colab": {
          "base_uri": "https://localhost:8080/"
        },
        "id": "2qz6iKlSZPPn",
        "outputId": "fa892e7c-66d9-4e27-9bd4-592125106280"
      },
      "execution_count": null,
      "outputs": [
        {
          "output_type": "execute_result",
          "data": {
            "text/plain": [
              "array(['so am', 'so duong', 'so duong', 'so 0', 'so am', 'so duong',\n",
              "       'so 0', 'so am'], dtype='<U14')"
            ]
          },
          "metadata": {},
          "execution_count": 26
        }
      ]
    },
    {
      "cell_type": "code",
      "source": [
        "import numpy as np\n",
        "from scipy import linalg, sparse\n",
        "D = np.asmatrix([ [3,4], [5,6] ])\n",
        "print(D)\n",
        "c = np.asmatrix(np.random.random((5,7)))\n",
        "print(c)\n",
        "A = np.asmatrix(np.random.random((2,2)))\n",
        "print(A)\n",
        "b = np.array([(1+5j, 2j, 3j),(4, 5,\n",
        "6)])\n",
        "B = np.asmatrix(b)\n",
        "print(b)\n",
        "print(B)\n",
        "h = A.T\n",
        "print(h)\n",
        "g = A.I\n",
        "print(g)\n",
        "linalg.inv(A)\n",
        "M = np.array([[-1,3,2],[0,-2,1],[1,5,-2]])\n",
        "M_lower = np.tril(M)\n",
        "print(M_lower)\n",
        "M = np.array([[-1,3,2],[0,-2,1],[1,5,-2]])\n",
        "M_upper = np.triu(M)\n",
        "print(M_upper)\n",
        "M = np.array([[-1,3,2],[0,-2,1],[1,5,-2]])\n",
        "v_diag = np.diag(M) #vector đường chéo\n",
        "print (v_diag)\n",
        "M_diag = np.diag(v_diag)\n",
        "print (M_diag)"
      ],
      "metadata": {
        "colab": {
          "base_uri": "https://localhost:8080/"
        },
        "id": "6RbGDlrdZeqv",
        "outputId": "c4198dde-d6ac-4e15-836b-177e5c54ab93"
      },
      "execution_count": null,
      "outputs": [
        {
          "output_type": "stream",
          "name": "stdout",
          "text": [
            "[[3 4]\n",
            " [5 6]]\n",
            "[[0.65946208 0.91169786 0.74100775 0.54221883 0.79882458 0.81934756\n",
            "  0.860559  ]\n",
            " [0.26404568 0.54794896 0.31965662 0.17419942 0.28854568 0.62157364\n",
            "  0.94062376]\n",
            " [0.63342778 0.30654399 0.63540003 0.35748653 0.33311054 0.71176089\n",
            "  0.58337328]\n",
            " [0.65821834 0.14350683 0.77131098 0.23299772 0.21281078 0.23508185\n",
            "  0.64114452]\n",
            " [0.68419036 0.07868993 0.22899518 0.49367872 0.44253734 0.19994791\n",
            "  0.31241032]]\n",
            "[[0.45533159 0.90237226]\n",
            " [0.91745113 0.81241206]]\n",
            "[[1.+5.j 0.+2.j 0.+3.j]\n",
            " [4.+0.j 5.+0.j 6.+0.j]]\n",
            "[[1.+5.j 0.+2.j 0.+3.j]\n",
            " [4.+0.j 5.+0.j 6.+0.j]]\n",
            "[[0.45533159 0.91745113]\n",
            " [0.90237226 0.81241206]]\n",
            "[[-1.7739588   1.97039321]\n",
            " [ 2.00331899 -0.99424851]]\n",
            "[[-1  0  0]\n",
            " [ 0 -2  0]\n",
            " [ 1  5 -2]]\n",
            "[[-1  3  2]\n",
            " [ 0 -2  1]\n",
            " [ 0  0 -2]]\n",
            "[-1 -2 -2]\n",
            "[[-1  0  0]\n",
            " [ 0 -2  0]\n",
            " [ 0  0 -2]]\n"
          ]
        }
      ]
    },
    {
      "cell_type": "code",
      "source": [
        "import sympy as sp\n",
        "x= sp.Symbol('x')\n",
        "y= sp.Symbol('y')\n",
        "z= sp.Symbol('z')\n",
        "sp.solve([x*x+2-6, y-1-6, x+z-1, 2*x*x-8, z*z+4-5, y-z-8], [x, y, z])\n"
      ],
      "metadata": {
        "colab": {
          "base_uri": "https://localhost:8080/"
        },
        "id": "xlDcbw2Eascd",
        "outputId": "35e263d1-f597-4942-88b7-dddb63998a6f"
      },
      "execution_count": null,
      "outputs": [
        {
          "output_type": "execute_result",
          "data": {
            "text/plain": [
              "[(2, 7, -1)]"
            ]
          },
          "metadata": {},
          "execution_count": 54
        }
      ]
    },
    {
      "cell_type": "code",
      "source": [
        "import numpy as np\n",
        "\n",
        "A = np.reshape(np.arange(36.0), (6,6))\n",
        "print(A)\n",
        "I6 = np.identity(6)\n",
        "print(I6)\n",
        "A.size\n",
        "import numpy as np\n",
        "\n",
        "A = np.reshape(np.arange(36.0), (6,6))\n",
        "print(A)\n",
        "I6 = np.identity(6)\n",
        "print(I6)\n",
        "A.size\n",
        "np.matrix.diagonal(A)\n",
        "A = A + I6\n",
        "print(A)"
      ],
      "metadata": {
        "colab": {
          "base_uri": "https://localhost:8080/"
        },
        "id": "CzSwt-9GaCge",
        "outputId": "53cbbc70-44d8-4bb7-8ca6-4f76d4e1a60c"
      },
      "execution_count": null,
      "outputs": [
        {
          "output_type": "stream",
          "name": "stdout",
          "text": [
            "[[ 0.  1.  2.  3.  4.  5.]\n",
            " [ 6.  7.  8.  9. 10. 11.]\n",
            " [12. 13. 14. 15. 16. 17.]\n",
            " [18. 19. 20. 21. 22. 23.]\n",
            " [24. 25. 26. 27. 28. 29.]\n",
            " [30. 31. 32. 33. 34. 35.]]\n",
            "[[1. 0. 0. 0. 0. 0.]\n",
            " [0. 1. 0. 0. 0. 0.]\n",
            " [0. 0. 1. 0. 0. 0.]\n",
            " [0. 0. 0. 1. 0. 0.]\n",
            " [0. 0. 0. 0. 1. 0.]\n",
            " [0. 0. 0. 0. 0. 1.]]\n",
            "[[ 0.  1.  2.  3.  4.  5.]\n",
            " [ 6.  7.  8.  9. 10. 11.]\n",
            " [12. 13. 14. 15. 16. 17.]\n",
            " [18. 19. 20. 21. 22. 23.]\n",
            " [24. 25. 26. 27. 28. 29.]\n",
            " [30. 31. 32. 33. 34. 35.]]\n",
            "[[1. 0. 0. 0. 0. 0.]\n",
            " [0. 1. 0. 0. 0. 0.]\n",
            " [0. 0. 1. 0. 0. 0.]\n",
            " [0. 0. 0. 1. 0. 0.]\n",
            " [0. 0. 0. 0. 1. 0.]\n",
            " [0. 0. 0. 0. 0. 1.]]\n",
            "[[ 1.  1.  2.  3.  4.  5.]\n",
            " [ 6.  8.  8.  9. 10. 11.]\n",
            " [12. 13. 15. 15. 16. 17.]\n",
            " [18. 19. 20. 22. 22. 23.]\n",
            " [24. 25. 26. 27. 29. 29.]\n",
            " [30. 31. 32. 33. 34. 36.]]\n"
          ]
        }
      ]
    },
    {
      "cell_type": "code",
      "source": [
        "vecB = np.array([1., 2., 3., 4., 5., 6.])\n",
        "C = A.dot(vecB)\n",
        "print(C)\n",
        "D = np.array([[1., 2., 3., 4., 5., 6.], [1., 0., 1., 0., 1., 0.]])\n",
        "print(D)\n",
        "E = A.dot(D.T)\n",
        "print(E)"
      ],
      "metadata": {
        "colab": {
          "base_uri": "https://localhost:8080/"
        },
        "id": "sWZHYONXg1u2",
        "outputId": "c2f01ad3-0900-4f04-ad76-5d27040c743d"
      },
      "execution_count": null,
      "outputs": [
        {
          "output_type": "stream",
          "name": "stdout",
          "text": [
            "[ 71. 198. 325. 452. 579. 706.]\n",
            "[[1. 2. 3. 4. 5. 6.]\n",
            " [1. 0. 1. 0. 1. 0.]]\n",
            "[[ 71.   7.]\n",
            " [198.  24.]\n",
            " [325.  43.]\n",
            " [452.  60.]\n",
            " [579.  79.]\n",
            " [706.  96.]]\n"
          ]
        }
      ]
    },
    {
      "cell_type": "code",
      "source": [
        "F = np.array([[1., 1.], [2., 0.], [3., 1.], [4., 0], [5., 1], [6., 0.]])\n",
        "G = A.dot(F)\n",
        "print(F)\n",
        "print(G)\n",
        "n = np.linalg.inv(A)\n",
        "print(n)\n",
        "f = np.linalg.inv(np.linalg.inv(A))\n",
        "print(f)"
      ],
      "metadata": {
        "colab": {
          "base_uri": "https://localhost:8080/"
        },
        "id": "7wRGELpoh4iW",
        "outputId": "f9bc8947-039e-445f-9f15-b5efa549674f"
      },
      "execution_count": null,
      "outputs": [
        {
          "output_type": "stream",
          "name": "stdout",
          "text": [
            "[[1. 1.]\n",
            " [2. 0.]\n",
            " [3. 1.]\n",
            " [4. 0.]\n",
            " [5. 1.]\n",
            " [6. 0.]]\n",
            "[[ 71.   7.]\n",
            " [198.  24.]\n",
            " [325.  43.]\n",
            " [452.  60.]\n",
            " [579.  79.]\n",
            " [706.  96.]]\n",
            "[[ 0.37022901 -0.45610687 -0.28244275 -0.10877863  0.0648855   0.23854962]\n",
            " [-0.44656489  0.65839695 -0.23664122 -0.13167939 -0.02671756  0.07824427]\n",
            " [-0.26335878 -0.22709924  0.80916031 -0.15458015 -0.11832061 -0.08206107]\n",
            " [-0.08015267 -0.11259542 -0.14503817  0.82251908 -0.20992366 -0.24236641]\n",
            " [ 0.10305344  0.0019084  -0.09923664 -0.20038168  0.69847328 -0.40267176]\n",
            " [ 0.28625954  0.11641221 -0.05343511 -0.22328244 -0.39312977  0.4370229 ]]\n",
            "[[ 1.  1.  2.  3.  4.  5.]\n",
            " [ 6.  8.  8.  9. 10. 11.]\n",
            " [12. 13. 15. 15. 16. 17.]\n",
            " [18. 19. 20. 22. 22. 23.]\n",
            " [24. 25. 26. 27. 29. 29.]\n",
            " [30. 31. 32. 33. 34. 36.]]\n"
          ]
        }
      ]
    },
    {
      "cell_type": "code",
      "source": [
        "import numpy as np\n",
        "A = np.array( [ [1,1], [1,0] ] )\n",
        "b = np.array([1, 0])\n",
        "n = 10\n",
        "\n",
        "for i in range(n):\n",
        "    B = A.dot(b)\n",
        "    print(B)"
      ],
      "metadata": {
        "colab": {
          "base_uri": "https://localhost:8080/"
        },
        "id": "eFK91D9oiegd",
        "outputId": "abfe9b5c-4e75-40a4-d988-9eb33b1819ed"
      },
      "execution_count": null,
      "outputs": [
        {
          "output_type": "stream",
          "name": "stdout",
          "text": [
            "[1 1]\n",
            "[1 1]\n",
            "[1 1]\n",
            "[1 1]\n",
            "[1 1]\n",
            "[1 1]\n",
            "[1 1]\n",
            "[1 1]\n",
            "[1 1]\n",
            "[1 1]\n"
          ]
        }
      ]
    },
    {
      "cell_type": "code",
      "source": [
        "import sympy as sp\n",
        "from sympy import Symbol\n",
        "17\n",
        "x1 = Symbol('x1')\n",
        "x2 = Symbol('x2')\n",
        "x3 = Symbol('x3')\n",
        "x4 = Symbol('x4')\n",
        "from sympy import solve\n",
        "pt1 = x4+610-450-x1\n",
        "import sympy as sp\n",
        "from sympy import Symbol\n",
        "17\n",
        "x1 = Symbol('x1')\n",
        "x2 = Symbol('x2')\n",
        "x3 = Symbol('x3')\n",
        "x4 = Symbol('x4')\n",
        "from sympy import solve\n",
        "pt1 = x4+610-450-x1\n",
        "pt2 = x1+400-x2-640\n",
        "pt3 = x2+600-x3\n",
        "pt4 = x3-x4-520\n",
        "nghiem = sp.solve((pt1, pt2, pt3, pt4))\n",
        "nghiem"
      ],
      "metadata": {
        "colab": {
          "base_uri": "https://localhost:8080/"
        },
        "id": "yOu3doFyjSJl",
        "outputId": "cfa58e19-4296-4149-9224-7754cc8c2221"
      },
      "execution_count": null,
      "outputs": [
        {
          "output_type": "execute_result",
          "data": {
            "text/plain": [
              "{x1: x4 + 160, x2: x4 - 80, x3: x4 + 520}"
            ]
          },
          "metadata": {},
          "execution_count": 68
        }
      ]
    },
    {
      "cell_type": "code",
      "source": [
        "import numpy as np\n",
        "A = np.matrix([[-1,0,0,1],[1,-1,0,0],[0,1,-1,0],[0,0,1,-1]])\n",
        "determinant_A = np.linalg.det(A)\n",
        "print(f\"Determinant of A: {determinant_A}\")"
      ],
      "metadata": {
        "colab": {
          "base_uri": "https://localhost:8080/"
        },
        "id": "GFMt1gT8je38",
        "outputId": "a4260f57-739f-4659-da8a-71ba00ef54f4"
      },
      "execution_count": null,
      "outputs": [
        {
          "output_type": "stream",
          "name": "stdout",
          "text": [
            "Determinant of A: 0.0\n"
          ]
        }
      ]
    },
    {
      "cell_type": "markdown",
      "source": [
        "BAI TAP VE NHA"
      ],
      "metadata": {
        "id": "ZNqCX3ueZN06"
      }
    },
    {
      "cell_type": "code",
      "source": [
        "import numpy as np\n",
        "\n",
        "\n",
        "a1 = 1\n",
        "b1 = -1\n",
        "c1 = -2\n",
        "\n",
        "\n",
        "a2 = 2\n",
        "b2 = 3\n",
        "c2 = 6\n",
        "\n",
        "\n",
        "A_prob1 = np.array([[a1, b1], [a2, b2]])\n",
        "\n",
        "\n",
        "B_prob1 = np.array([c1, c2])\n",
        "\n",
        "\n",
        "try:\n",
        "    solution_prob1 = np.linalg.solve(A_prob1, B_prob1)\n",
        "    x_prob1, y_prob1 = solution_prob1\n",
        "    print(f\"Vấn đề 1: Điểm giao nhau giữa hai đường thẳng là x = {x_prob1:.2f}, y = {y_prob1:.2f}\")\n",
        "except np.linalg.LinAlgError:\n",
        "    print(\"Vấn đề 1: Hai đường thẳng song song hoặc trùng nhau (không có điểm giao duy nhất).\")"
      ],
      "metadata": {
        "id": "CWp9iuHLjtD0",
        "colab": {
          "base_uri": "https://localhost:8080/"
        },
        "outputId": "c81a194a-2637-4735-8fbc-8593e83ccfa2"
      },
      "execution_count": 1,
      "outputs": [
        {
          "output_type": "stream",
          "name": "stdout",
          "text": [
            "Vấn đề 1: Điểm giao nhau giữa hai đường thẳng là x = 0.00, y = 2.00\n"
          ]
        }
      ]
    },
    {
      "cell_type": "code",
      "source": [
        "import numpy as np\n",
        "\n",
        "a1, b1, c1, d1 = 1, -1, -1, 2\n",
        "\n",
        "a2, b2, c2, d2 = 2, -1, -1, 3\n",
        "\n",
        "a3, b3, c3, d3 = 1, 1, 1, 6\n",
        "\n",
        "A_prob2 = np.array([[a1, b1, c1], [a2, b2, c2], [a3, b3, c3]])\n",
        "\n",
        "B_prob2 = np.array([d1, d2, d3])\n",
        "\n",
        "try:\n",
        "    solution_prob2 = np.linalg.solve(A_prob2, B_prob2)\n",
        "    x_prob2, y_prob2, z_prob2 = solution_prob2\n",
        "    print(f\"Vấn đề 2: Điểm giao nhau giữa ba mặt phẳng là x = {x_prob2:.2f}, y = {y_prob2:.2f}, z = {z_prob2:.2f}\")\n",
        "except np.linalg.LinAlgError:\n",
        "    print(\"Vấn đề 2: Các mặt phẳng không giao nhau tại một điểm duy nhất (có thể song song, trùng nhau hoặc giao nhau tạo thành đường thẳng).\")"
      ],
      "metadata": {
        "colab": {
          "base_uri": "https://localhost:8080/"
        },
        "id": "AfRsXHhzZ3QI",
        "outputId": "bfae8f1d-15bb-4c2a-eaf4-97aa56162348"
      },
      "execution_count": 2,
      "outputs": [
        {
          "output_type": "stream",
          "name": "stdout",
          "text": [
            "Vấn đề 2: Các mặt phẳng không giao nhau tại một điểm duy nhất (có thể song song, trùng nhau hoặc giao nhau tạo thành đường thẳng).\n"
          ]
        }
      ]
    }
  ]
}