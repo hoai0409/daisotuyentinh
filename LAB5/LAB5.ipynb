{
  "nbformat": 4,
  "nbformat_minor": 0,
  "metadata": {
    "colab": {
      "provenance": []
    },
    "kernelspec": {
      "name": "python3",
      "display_name": "Python 3"
    },
    "language_info": {
      "name": "python"
    }
  },
  "cells": [
    {
      "cell_type": "markdown",
      "source": [
        "BT trên lớp"
      ],
      "metadata": {
        "id": "hUfm9LfyZlrk"
      }
    },
    {
      "cell_type": "code",
      "source": [
        "# lỗi chua import numpy as np\n",
        "import numpy as np\n",
        "D = np.array([[1,2],[3,4]])\n",
        "E = np.empty_like(D)\n",
        "np.copyto(E, D)\n",
        "\n",
        "E = np.array([[1,2],[3,5]])\n",
        "np.copyto(E, D)\n",
        "\n",
        "print(np.array_equal(E, D))\n",
        "print(E)"
      ],
      "metadata": {
        "id": "67P-8i1GZtt8"
      },
      "execution_count": null,
      "outputs": []
    },
    {
      "cell_type": "code",
      "source": [
        "import numpy as np\n",
        "x = np.array([['a','b'],['c','d']])\n",
        "y = 'x'\n",
        "C = np.matrix([[x,y],[1, 2]], dtype='object' )\n",
        "print (C)\n",
        "# A = np.matrix([[[1,2],[3,4]],[[5,6],[7,8]]])\n",
        "print(\"loi Change np.matrix to np.array for 3-dimensional data\")\n",
        "A = np.array([[[1,2],[3,4]],[[5,6],[7,8]]])\n",
        "print(A)"
      ],
      "metadata": {
        "id": "SFv63FcaasVu"
      },
      "execution_count": null,
      "outputs": []
    },
    {
      "cell_type": "code",
      "source": [
        "from numpy import matlib\n",
        "G = matlib.identity(5) # cú pháp: matlib.identity(n)\n",
        "print (G)\n",
        "H = matlib.randn(3,2) # cú pháp: matlib.randn(*args)\n",
        "print(H)\n",
        "K = matlib.zeros([4,4]) #  cú pháp: matlib.zeros(shape)\n",
        "print(K)"
      ],
      "metadata": {
        "id": "rftHRUr0bz1E"
      },
      "execution_count": null,
      "outputs": []
    },
    {
      "cell_type": "code",
      "source": [
        "import numpy as np\n",
        "c = [3, 7, 15, 1, 292, 1, 1, 1, 2, 1, 3, 1, 14, 2] # thử chạy nhiều lần với dãy c dài khác nhau!\n",
        "M = np.asmatrix([[1,2],[3,4]]) # khởi tạo ma trận 2x2\n",
        "for i in range(len(c)):\n",
        "  ci = np.asmatrix([[1,1],[1,0]])\n",
        "  ci[0, 0] = c[i]\n",
        "  if (i==0):\n",
        "    M = ci\n",
        "  else:\n",
        "    M = M.dot(ci)\n",
        "print(M)\n",
        "print (M[0,0]/M[1,0])"
      ],
      "metadata": {
        "id": "sIHv0gT0cPGM"
      },
      "execution_count": null,
      "outputs": []
    },
    {
      "cell_type": "code",
      "source": [
        "X = np.array([[1, 1],\n",
        "              [1, 2],\n",
        "              [1, 3],\n",
        "              [1, 4],\n",
        "              [1, 5]])\n",
        "\n",
        "Y = np.array([[1],\n",
        "              [2],\n",
        "              [4],\n",
        "              [4],\n",
        "              [6]])\n",
        "XT = X.T\n",
        "print(XT)\n",
        "XT_X = XT @ X\n",
        "print(XT_X)\n",
        "A1 = np.linalg.inv(XT_X)\n",
        "print(A1)\n",
        "A2 = XT @ Y\n",
        "print(A2)\n",
        "A = A1 @ A2\n",
        "print(A)\n",
        "A1.dot(A2)\n",
        "print(A1.dot(A2))\n",
        "a0 = A[0, 0]\n",
        "a1 = A[1, 0]\n",
        "print(f\"\\nNhư vậy, phương trình đường thẳng gần đúng nhất sẽ là: Y = {a0:.4f} + {a1:.4f}X\")"
      ],
      "metadata": {
        "id": "PsTlUmZ3cseU"
      },
      "execution_count": null,
      "outputs": []
    },
    {
      "cell_type": "markdown",
      "source": [
        "BT Về Nhà"
      ],
      "metadata": {
        "id": "NDedPwqbeyaR"
      }
    },
    {
      "cell_type": "code",
      "source": [
        "def bpcuctieu(a):\n",
        " b = []\n",
        " o1 = []\n",
        " for i in range(len(a)):\n",
        "    o1.append(1.0)\n",
        "    b.append((i+1)*1.0)\n",
        " x = np.array([o1, b])\n",
        " u = np.dot(x, x.T)\n",
        " y = np.array(a)\n",
        " from numpy import linalg\n",
        " u_1 =np.linalg.inv(u)\n",
        " v = np.dot(u_1, x)\n",
        " A = np.dot(v, y)\n",
        " return A\n",
        "\n",
        "a =  [10.0, 8,7,5,2]\n",
        "d = bpcuctieu(a)\n",
        "print(d)"
      ],
      "metadata": {
        "colab": {
          "base_uri": "https://localhost:8080/"
        },
        "id": "Qsnb6Vx-e5Eh",
        "outputId": "c5972d0e-0474-4b80-c1f3-e65d04aa742e"
      },
      "execution_count": null,
      "outputs": [
        {
          "output_type": "stream",
          "name": "stdout",
          "text": [
            "[12.1 -1.9]\n"
          ]
        }
      ]
    }
  ]
}