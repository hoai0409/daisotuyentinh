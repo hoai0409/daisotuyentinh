{
  "cells": [
    {
      "source": [
        "import numpy as np\n",
        "n = 4\n",
        "X = np.array(range(1,n+1))\n",
        "sigma = np.array([4,3,2,1])\n",
        "def sgn_by_def(sigma):\n",
        "    ketqua = 1.0\n",
        "    for i in range(len(X)-1):\n",
        "      for j in range (i +1, len(X)):\n",
        "        ketqua= ketqua * ((X[i]-X[j])/(sigma[i]-sigma[j]))\n",
        "    return int (ketqua)\n",
        "print(sgn_by_def(sigma))"
      ],
      "cell_type": "code",
      "metadata": {
        "id": "v74ufX_uZrCd",
        "outputId": "1f2bb192-2b2b-46ed-846b-537fb377ea21",
        "colab": {
          "base_uri": "https://localhost:8080/"
        }
      },
      "execution_count": 42,
      "outputs": [
        {
          "output_type": "stream",
          "name": "stdout",
          "text": [
            "1\n"
          ]
        }
      ]
    },
    {
      "cell_type": "code",
      "source": [
        "import numpy as np\n",
        "n = 4\n",
        "X = np.array(range(1,n+1))\n",
        "sigma = np.array([2,1,3,4])\n",
        "def sgn_by_def(sigma):\n",
        "    ketqua = 1.0\n",
        "    for i in range(len(X)-1):\n",
        "      for j in range (i +1, len(X)):\n",
        "        ketqua= ketqua * ((X[i]-X[j])/(sigma[i]-sigma[j]))\n",
        "    return int (ketqua)\n",
        "print(sgn_by_def(sigma))"
      ],
      "metadata": {
        "id": "M8_JAhopZ0uE",
        "outputId": "c63b66ac-cbe8-4d66-c34e-a3a870a7d932",
        "colab": {
          "base_uri": "https://localhost:8080/"
        }
      },
      "execution_count": 43,
      "outputs": [
        {
          "output_type": "stream",
          "name": "stdout",
          "text": [
            "-1\n"
          ]
        }
      ]
    },
    {
      "cell_type": "code",
      "source": [
        "import numpy as np\n",
        "n = 4\n",
        "X = np.array(range(1,n+1))\n",
        "sigma = np.array([1,2,3,4])\n",
        "def sgn_by_def(sigma):\n",
        "    ketqua = 1.0\n",
        "    for i in range(len(X)-1):\n",
        "      for j in range (i +1, len(X)):\n",
        "        ketqua= ketqua * ((X[i]-X[j])/(sigma[i]-sigma[j]))\n",
        "    return int (ketqua)\n",
        "print(sgn_by_def(sigma))"
      ],
      "metadata": {
        "id": "SWIOzDmMaKI2",
        "outputId": "dd4006de-0c50-424f-f023-97f380b60571",
        "colab": {
          "base_uri": "https://localhost:8080/"
        }
      },
      "execution_count": 44,
      "outputs": [
        {
          "output_type": "stream",
          "name": "stdout",
          "text": [
            "1\n"
          ]
        }
      ]
    },
    {
      "cell_type": "code",
      "source": [
        "from itertools import permutations\n",
        "n = 3\n",
        "X = []\n",
        "for i in range (1, n+1):\n",
        "  X.append(i)\n",
        "Sn = list(permutations(X)) #tạo hoán vị của tập X\n",
        "print (Sn)"
      ],
      "metadata": {
        "id": "GMXmK5aqaN0F",
        "outputId": "1187cbfd-33c0-478e-e721-6c7ac249684c",
        "colab": {
          "base_uri": "https://localhost:8080/"
        }
      },
      "execution_count": 45,
      "outputs": [
        {
          "output_type": "stream",
          "name": "stdout",
          "text": [
            "[(1, 2, 3), (1, 3, 2), (2, 1, 3), (2, 3, 1), (3, 1, 2), (3, 2, 1)]\n"
          ]
        }
      ]
    },
    {
      "cell_type": "code",
      "source": [
        "from itertools import permutations\n",
        "import numpy as np\n",
        "def sgn_by_def(sigma):\n",
        "    n = len(sigma)\n",
        "    inversions = 0\n",
        "    for i in range(n):\n",
        "        for j in range(i + 1, n):\n",
        "            if sigma[i] > sigma[j]:\n",
        "                inversions += 1\n",
        "    return -1 if inversions % 2 else 1\n",
        "def phatsinh_dinhthuc(n):\n",
        "    X = []\n",
        "    for i in range(1, n+1):\n",
        "        X.append(i)\n",
        "    Sn = list(permutations(X))\n",
        "    dinhthuc = \"\"\n",
        "    for sn in Sn:\n",
        "        sigma = np.array([1])\n",
        "        sigma.resize([n])\n",
        "        product = \"\"\n",
        "        for i in range(1,n+1):\n",
        "            sigma[sn.index(i)] = i\n",
        "            product = product + \"a\" + str(i) + str(sn.index(i)+1)\n",
        "        dau = sgn_by_def(sigma)\n",
        "        if dau != 1:\n",
        "            product = \" - \" + product\n",
        "        else:\n",
        "            product = \" + \" + product\n",
        "        dinhthuc = dinhthuc + product\n",
        "    return dinhthuc\n",
        "# Gọi hàm với n = 2\n",
        "print(phatsinh_dinhthuc(2))"
      ],
      "metadata": {
        "id": "nVyQVEOaaiEk",
        "outputId": "0305ff92-90bd-4534-c5e9-113597ffc4f5",
        "colab": {
          "base_uri": "https://localhost:8080/"
        }
      },
      "execution_count": 46,
      "outputs": [
        {
          "output_type": "stream",
          "name": "stdout",
          "text": [
            " + a11a22 - a12a21\n"
          ]
        }
      ]
    },
    {
      "source": [
        "import numpy as np\n",
        "from itertools import permutations\n",
        "\n",
        "def sgn_by_def(sigma, n):\n",
        "    X = np.array(range(1, n + 1))\n",
        "    ketqua = 1.0\n",
        "    for i in range(n - 1):\n",
        "      for j in range (i + 1, n):\n",
        "        ketqua= ketqua * ((X[i]-X[j])/(sigma[i]-sigma[j]))\n",
        "    return int (ketqua)\n",
        "\n",
        "def phatsinh_dinhthuc(n):\n",
        "    X = []\n",
        "    for i in range(1, n+1):\n",
        "        X.append(i)\n",
        "    Sn = list(permutations(X))\n",
        "    dinhthuc = \"\"\n",
        "    for sn in Sn:\n",
        "        sigma = np.zeros(n, dtype=int)\n",
        "        product = \"\"\n",
        "        for i in range(1,n+1):\n",
        "            sigma[sn.index(i)] = i\n",
        "            product = product + \"a\" + str(i) + str(sn.index(i)+1)\n",
        "\n",
        "        dau = sgn_by_def(sigma, n)\n",
        "        if dau != 1:\n",
        "            product = \" - \" + product\n",
        "        else:\n",
        "            product = \" + \" + product\n",
        "        dinhthuc = dinhthuc + product\n",
        "    return dinhthuc\n",
        "\n",
        "print(phatsinh_dinhthuc(3))"
      ],
      "cell_type": "code",
      "metadata": {
        "id": "2N8Y2Dtubw4M",
        "outputId": "41a7cce8-eb61-4e3f-dba6-4ce15fc7b116",
        "colab": {
          "base_uri": "https://localhost:8080/"
        }
      },
      "execution_count": 47,
      "outputs": [
        {
          "output_type": "stream",
          "name": "stdout",
          "text": [
            " + a11a22a33 - a11a23a32 - a12a21a33 + a13a21a32 + a12a23a31 - a13a22a31\n"
          ]
        }
      ]
    },
    {
      "cell_type": "code",
      "source": [
        "import numpy as np\n",
        "from itertools import permutations\n",
        "import math\n",
        "def sgn_by_def(sigma):\n",
        "    pass\n",
        "def tinh_toan_dinh_thuc(A):\n",
        "    X = []\n",
        "    n = int(math.sqrt(A.size))\n",
        "    for i in range(1, n + 1):\n",
        "        X.append(i)\n",
        "    Sn = list(permutations(X))\n",
        "    dinhthuc = 0\n",
        "    for sn in Sn:\n",
        "        sigma = np.array([1])\n",
        "        sigma.resize([n])\n",
        "        product = 1\n",
        "        for i in range(1, n + 1):\n",
        "            sigma[sn.index(i)] = i\n",
        "            product *= A[i - 1][sn.index(i)]\n",
        "        dau = sgn_by_def(sigma)\n",
        "        if dau != 1:\n",
        "            product *= -1\n",
        "        dinhthuc += product\n",
        "    return dinhthuc\n",
        "matran = np.array([[3, 5, -8], [4, 12, -1], [2, 5, 3]])\n",
        "ket_qua = tinh_toan_dinh_thuc(matran)\n",
        "print(\"Định thức của ma trận là:\", ket_qua)"
      ],
      "metadata": {
        "id": "iNE_yhpgcOUW",
        "outputId": "0301dce3-d646-4eab-b90f-54a60e036c8f",
        "colab": {
          "base_uri": "https://localhost:8080/"
        }
      },
      "execution_count": 48,
      "outputs": [
        {
          "output_type": "stream",
          "name": "stdout",
          "text": [
            "Định thức của ma trận là: 209\n"
          ]
        }
      ]
    },
    {
      "cell_type": "code",
      "source": [
        "import numpy as np\n",
        "A = np.array([[4, -2],[3, -5]]) # khai báo ma trận A\n",
        "A1 = np.array([[10, -2],[11, -5]])\n",
        "A2 = np.array([[4, 10],[3, 11]])\n",
        "from scipy import linalg # lưu ý: hàm tính định thức của ma trận là scipy.linalg.det(A)\n",
        "detA = linalg.det(A) # tính định thức cho ma trận A\n",
        "detA1 = linalg.det(A1)\n",
        "detA2 = linalg.det(A2)\n",
        "print (detA, detA1, detA2)\n",
        "if (detA != 0):\n",
        " x1 = detA1 / detA\n",
        " x2 = detA2 / detA\n",
        " print (\"Hai nghiệm của phương trình là: \", x1, x2)"
      ],
      "metadata": {
        "id": "udQqpa9WczX0",
        "outputId": "cb225a53-335c-445f-dcef-0c36d740647e",
        "colab": {
          "base_uri": "https://localhost:8080/"
        }
      },
      "execution_count": 49,
      "outputs": [
        {
          "output_type": "stream",
          "name": "stdout",
          "text": [
            "-14.0 -28.0 14.000000000000004\n",
            "Hai nghiệm của phương trình là:  2.0 -1.0000000000000002\n"
          ]
        }
      ]
    },
    {
      "cell_type": "code",
      "source": [
        "from scipy import linalg\n",
        "def tinhtoan_dinhthuc():\n",
        "    A = [[4, -2], [3, -5]]\n",
        "    A1 = [[10, -2], [11, -5]]\n",
        "    A2 = [[4, 10], [3, 11]]\n",
        "    detA = linalg.det(A)\n",
        "    detA1 = linalg.det(A1)\n",
        "    detA2 = linalg.det(A2)\n",
        "    print(f\"Định thức A: {detA}\")\n",
        "    print(f\"Định thức A1: {detA1}\")\n",
        "    print(f\"Định thức A2: {detA2}\")\n",
        "    if detA != 0:\n",
        "        x1 = detA1 / detA\n",
        "        x2 = detA2 / detA\n",
        "        print(f\"Nghiệm của hệ ptrình: x1 = {x1}, x2 = {x2}\")\n",
        "    else:\n",
        "        print(\"Hệ ptrình vô nghiệm hoặc vô số nghiệm\")\n",
        "tinhtoan_dinhthuc()"
      ],
      "metadata": {
        "id": "BaywOHMrdeWM",
        "outputId": "65964c3b-9e8a-455e-f8d9-1f6c98f90219",
        "colab": {
          "base_uri": "https://localhost:8080/"
        }
      },
      "execution_count": 50,
      "outputs": [
        {
          "output_type": "stream",
          "name": "stdout",
          "text": [
            "Định thức A: -14.0\n",
            "Định thức A1: -28.0\n",
            "Định thức A2: 14.000000000000004\n",
            "Nghiệm của hệ ptrình: x1 = 2.0, x2 = -1.0000000000000002\n"
          ]
        }
      ]
    },
    {
      "cell_type": "code",
      "source": [
        "import numpy as np\n",
        "from scipy.linalg import det\n",
        "A = np.array([\n",
        "    [-1, 2, -3],\n",
        "    [2, -2, 1],\n",
        "    [3, -4, 1]])\n",
        "B = np.array([1, 3, 2])\n",
        "D = det(A)\n",
        "def tinhtoan_dinhthuc(A, B, index):\n",
        "    A_copy = A.copy()\n",
        "    A_copy[:, index] = B\n",
        "    return det(A_copy)\n",
        "Dx = tinhtoan_dinhthuc(A, B, 0)\n",
        "Dy = tinhtoan_dinhthuc(A, B, 1)\n",
        "Dz = tinhtoan_dinhthuc(A, B, 2)\n",
        "x = Dx / D\n",
        "y = Dy / D\n",
        "z = Dz / D\n",
        "print(\"Nghiệm của hệ phương trình là:\")\n",
        "print(f\"x = {x}, y = {y}, z = {z}\")"
      ],
      "metadata": {
        "id": "rYdDn4DoeTbE",
        "outputId": "ac6f06ad-787a-47e6-f499-cff715fc726a",
        "colab": {
          "base_uri": "https://localhost:8080/"
        }
      },
      "execution_count": 51,
      "outputs": [
        {
          "output_type": "stream",
          "name": "stdout",
          "text": [
            "Nghiệm của hệ phương trình là:\n",
            "x = 3.9999999999999996, y = 2.4999999999999996, z = 0.0\n"
          ]
        }
      ]
    },
    {
      "cell_type": "code",
      "source": [
        "import numpy as np\n",
        "from scipy.linalg import det\n",
        "A = np.array([[-1, 2, -3],\n",
        "              [2, -2, 1],\n",
        "              [3, -4, 4]])\n",
        "B = np.array([1, 3, 2])\n",
        "dinh_thuc_A = det(A)\n",
        "print(f\"Định thức của ma trận hệ số (A) là: {dinh_thuc_A}\")\n",
        "if dinh_thuc_A != 0:\n",
        "    nghiem = np.linalg.solve(A, B)\n",
        "    print(\"Nghiệm của hệ ptrình là:\")\n",
        "    print(f\"x = {nghiem[0]}, y = {nghiem[1]}, z = {nghiem[2]}\")\n",
        "else:\n",
        "    print(\"Hệ ptrình không có nghiệm duy nhất\")"
      ],
      "metadata": {
        "id": "umAyH9Ooffl0",
        "outputId": "ec11cf34-0168-4ce8-b8e1-47a1ec266cd6",
        "colab": {
          "base_uri": "https://localhost:8080/"
        }
      },
      "execution_count": 52,
      "outputs": [
        {
          "output_type": "stream",
          "name": "stdout",
          "text": [
            "Định thức của ma trận hệ số (A) là: 0.0\n",
            "Hệ ptrình không có nghiệm duy nhất\n"
          ]
        }
      ]
    },
    {
      "cell_type": "code",
      "source": [
        "def tinhtoan_dinhthuc(matrix):\n",
        "    return np.linalg.det(matrix)\n",
        "dinh_thuc_A_tu_viet = tinhtoan_dinhthuc(A)\n",
        "print(f\"Định thức của ma trận hệ số (A) là: {dinh_thuc_A_tu_viet}\")\n",
        "if dinh_thuc_A_tu_viet != 0:\n",
        "    nghiem_tu_viet = np.linalg.solve(A, B)\n",
        "    print(\"Nghiệm của hệ ptrình là:\")\n",
        "    print(f\"x = {nghiem_tu_viet[0]}, y = {nghiem_tu_viet[1]}, z = {nghiem_tu_viet[2]}\")\n",
        "else:\n",
        "    print(\"Hệ ptrình không có nghiệm duy nhất\")\n"
      ],
      "metadata": {
        "id": "c1ZHK2szfuAM",
        "outputId": "44be2ee2-44be-430a-8d27-5d03dddaf536",
        "colab": {
          "base_uri": "https://localhost:8080/"
        }
      },
      "execution_count": 53,
      "outputs": [
        {
          "output_type": "stream",
          "name": "stdout",
          "text": [
            "Định thức của ma trận hệ số (A) là: -8.881784197001244e-16\n",
            "Nghiệm của hệ ptrình là:\n",
            "x = 1.0, y = -1.25, z = -1.5\n"
          ]
        }
      ]
    },
    {
      "cell_type": "code",
      "source": [
        "import sympy as sp\n",
        "TG = sp.Matrix([[1, 0, 1],[4, 3, 1], [2, 2, 1]])\n",
        "KQ = 1/2*TG.det()\n",
        "print (\"Kết quả diện tích tam giác là: \",KQ)"
      ],
      "metadata": {
        "id": "XMxeVgiOgQ-E",
        "outputId": "0f76cf7f-0904-4f66-e65d-118353919f75",
        "colab": {
          "base_uri": "https://localhost:8080/"
        }
      },
      "execution_count": 54,
      "outputs": [
        {
          "output_type": "stream",
          "name": "stdout",
          "text": [
            "Kết quả diện tích tam giác là:  1.50000000000000\n"
          ]
        }
      ]
    },
    {
      "cell_type": "code",
      "source": [
        "import sympy as sp\n",
        "M = sp.Matrix([[0,4,1,1],[4,0,0,1],[3,5,2,1],[2,2,5,1]])\n",
        "M.det()\n",
        "KQ = 1/6*M.det()\n",
        "print (\"Thể tích của tứ diện là: \",KQ)"
      ],
      "metadata": {
        "id": "9-Er1VUSguCu",
        "outputId": "5329407f-6076-4b45-f019-65a32bf4ecd1",
        "colab": {
          "base_uri": "https://localhost:8080/"
        }
      },
      "execution_count": 55,
      "outputs": [
        {
          "output_type": "stream",
          "name": "stdout",
          "text": [
            "Thể tích của tứ diện là:  -12.0000000000000\n"
          ]
        }
      ]
    },
    {
      "cell_type": "code",
      "source": [
        "import sympy as sp\n",
        "x, y, z = sp.symbols('x y z')\n",
        "MP = sp.Matrix([\n",
        "    [x, y, z, 1],\n",
        "    [-1, 3, 2, 1],\n",
        "    [0, 1, 0, 1],\n",
        "    [-2, 0, 1, 1]])\n",
        "dinh_thuc = MP.det()\n",
        "phuong_trinh_mat_phang = dinh_thuc\n",
        "print(\"Định thức của ma trận MP là:\", dinh_thuc)\n",
        "print(\"Phương trình mặt phẳng là:\", phuong_trinh_mat_phang)"
      ],
      "metadata": {
        "id": "_IH18ewuhbDM",
        "outputId": "5a6ec094-76ce-4f84-a2d9-dc75c0de032f",
        "colab": {
          "base_uri": "https://localhost:8080/"
        }
      },
      "execution_count": 56,
      "outputs": [
        {
          "output_type": "stream",
          "name": "stdout",
          "text": [
            "Định thức của ma trận MP là: -4*x + 3*y - 5*z - 3\n",
            "Phương trình mặt phẳng là: -4*x + 3*y - 5*z - 3\n"
          ]
        }
      ]
    },
    {
      "cell_type": "markdown",
      "source": [
        "Câu 1 BTVN"
      ],
      "metadata": {
        "id": "X5S8FZ8Rilt8"
      }
    },
    {
      "cell_type": "markdown",
      "source": [
        "a/"
      ],
      "metadata": {
        "id": "1aXJ-X05jtX0"
      }
    },
    {
      "cell_type": "code",
      "source": [
        "import numpy as np\n",
        "def lay_ma_tran_he_so_kep(ma_tran):\n",
        "    n = len(ma_tran)\n",
        "    ma_tran_he_so_kep = np.zeros((n, n))\n",
        "    for i in range(n):\n",
        "        for j in range(n):\n",
        "            phu_hop = np.delete(np.delete(ma_tran, i, axis=0), j, axis=1)\n",
        "            ma_tran_he_so_kep[i][j] = ((-1) ** (i + j)) * np.linalg.det(phu_hop)\n",
        "\n",
        "    return ma_tran_he_so_kep\n",
        "A = np.array([[1, 2, 3],\n",
        "              [0, 1, 4],\n",
        "              [5, 6, 0]])\n",
        "ma_tran_he_so_kep = lay_ma_tran_he_so_kep(A)\n",
        "print(\"Ma trận A:\")\n",
        "print(A)\n",
        "print(\"\\nMa trận hệ số kép của A:\")\n",
        "print(ma_tran_he_so_kep)"
      ],
      "metadata": {
        "id": "9USwhZMSiit8",
        "outputId": "46a60e4c-6a29-4846-d798-055214db9017",
        "colab": {
          "base_uri": "https://localhost:8080/"
        }
      },
      "execution_count": 57,
      "outputs": [
        {
          "output_type": "stream",
          "name": "stdout",
          "text": [
            "Ma trận A:\n",
            "[[1 2 3]\n",
            " [0 1 4]\n",
            " [5 6 0]]\n",
            "\n",
            "Ma trận hệ số kép của A:\n",
            "[[-24.  20.  -5.]\n",
            " [ 18. -15.   4.]\n",
            " [  5.  -4.   1.]]\n"
          ]
        }
      ]
    },
    {
      "cell_type": "markdown",
      "source": [
        "b/"
      ],
      "metadata": {
        "id": "sN0VE4IqjvGL"
      }
    },
    {
      "cell_type": "code",
      "source": [
        "import numpy as np\n",
        "def lay_ma_tran_he_so_kep(ma_tran):\n",
        "    n = len(ma_tran)\n",
        "    ma_tran_he_so_kep = np.zeros((n, n))\n",
        "    for i in range(n):\n",
        "        for j in range(n):\n",
        "            phu_hop = np.delete(np.delete(ma_tran, i, axis=0), j, axis=1)\n",
        "            ma_tran_he_so_kep[i][j] = ((-1) ** (i + j)) * np.linalg.det(phu_hop)\n",
        "    return ma_tran_he_so_kep\n",
        "def lay_ma_tran_lien_hop(ma_tran):\n",
        "    ma_tran_he_so_kep = lay_ma_tran_he_so_kep(ma_tran)\n",
        "    ma_tran_lien_hop = np.transpose(ma_tran_he_so_kep)\n",
        "    return ma_tran_lien_hop\n",
        "A = np.array([[1, 2, 3],\n",
        "              [0, 1, 4],\n",
        "              [5, 6, 0]])\n",
        "ma_tran_lien_hop = lay_ma_tran_lien_hop(A)\n",
        "print(\"Ma trận A:\")\n",
        "print(A)\n",
        "print(\"\\nMa trận liên hợp của A:\")\n",
        "print(ma_tran_lien_hop)"
      ],
      "metadata": {
        "id": "qnDy0aL5i7cb",
        "outputId": "af69ceb6-28a6-4974-88ee-be56f49fefbd",
        "colab": {
          "base_uri": "https://localhost:8080/"
        }
      },
      "execution_count": 58,
      "outputs": [
        {
          "output_type": "stream",
          "name": "stdout",
          "text": [
            "Ma trận A:\n",
            "[[1 2 3]\n",
            " [0 1 4]\n",
            " [5 6 0]]\n",
            "\n",
            "Ma trận liên hợp của A:\n",
            "[[-24.  18.   5.]\n",
            " [ 20. -15.  -4.]\n",
            " [ -5.   4.   1.]]\n"
          ]
        }
      ]
    },
    {
      "cell_type": "markdown",
      "source": [
        "Câu 2(BTVN)"
      ],
      "metadata": {
        "id": "DYRhwnmtkE6D"
      }
    },
    {
      "cell_type": "code",
      "source": [
        "import sympy as sp\n",
        "def phuong_trinh_duong_tron(ba_diem):\n",
        "    x, y = sp.symbols('x y')\n",
        "    x1, y1 = ba_diem[0]\n",
        "    x2, y2 = ba_diem[1]\n",
        "    x3, y3 = ba_diem[2]\n",
        "    ma_tran = sp.Matrix([\n",
        "        [x**2 + y**2, x, y, 1],\n",
        "        [x1**2 + y1**2, x1, y1, 1],\n",
        "        [x2**2 + y2**2, x2, y2, 1],\n",
        "        [x3**2 + y3**2, x3, y3, 1]])\n",
        "    dinh_thuc = ma_tran.det()\n",
        "    phuong_trinh = sp.Eq(dinh_thuc, 0)\n",
        "    return phuong_trinh\n",
        "ba_diem = [(1, 2), (3, 4), (5, 6)]\n",
        "phuong_trinh = phuong_trinh_duong_tron(ba_diem)\n",
        "print(\"Ptrình đường tròn đi qua 3 điểm {} là:\".format(ba_diem))\n",
        "print(phuong_trinh)"
      ],
      "metadata": {
        "id": "HQpsIMn_kG3M",
        "outputId": "7b508910-0778-41c0-ef74-b738dffa5e74",
        "colab": {
          "base_uri": "https://localhost:8080/"
        }
      },
      "execution_count": 41,
      "outputs": [
        {
          "output_type": "stream",
          "name": "stdout",
          "text": [
            "Ptrình đường tròn đi qua 3 điểm [(1, 2), (3, 4), (5, 6)] là:\n",
            "Eq(32*x - 32*y + 32, 0)\n"
          ]
        }
      ]
    }
  ],
  "metadata": {
    "colab": {
      "name": "Chào mừng bạn đến với Colab",
      "provenance": []
    },
    "kernelspec": {
      "display_name": "Python 3",
      "name": "python3"
    }
  },
  "nbformat": 4,
  "nbformat_minor": 0
}