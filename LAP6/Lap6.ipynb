{
  "nbformat": 4,
  "nbformat_minor": 0,
  "metadata": {
    "colab": {
      "provenance": []
    },
    "kernelspec": {
      "name": "python3",
      "display_name": "Python 3"
    },
    "language_info": {
      "name": "python"
    }
  },
  "cells": [
    {
      "cell_type": "markdown",
      "source": [
        "BT TREN LOP"
      ],
      "metadata": {
        "id": "ErbanGUjXNdY"
      }
    },
    {
      "cell_type": "code",
      "source": [
        "import numpy as np\n",
        "a = np.array([1,2,3])\n",
        "b = np.array([4,5,6])\n",
        "tich = np.inner(a,b) # tích vô hướng\n",
        "print (tich)\n",
        "np.dot(a,b)\n",
        "print(np.dot(a,b))"
      ],
      "metadata": {
        "id": "kME0OpWfXSXA"
      },
      "execution_count": null,
      "outputs": []
    },
    {
      "cell_type": "code",
      "source": [
        "import numpy as np\n",
        "a = np.array([1,2,-3])\n",
        "np.linalg.norm(a)\n",
        "print(np.linalg.norm(a))\n",
        "a = np.array([1,2,-3])\n",
        "np.linalg.norm(a,1)\n",
        "print(np.linalg.norm(a,1))"
      ],
      "metadata": {
        "id": "mnVlnOzCYCaB"
      },
      "execution_count": null,
      "outputs": []
    },
    {
      "cell_type": "code",
      "source": [
        "import math\n",
        "import numpy as np\n",
        "def chuan(a,n):\n",
        "    return np.linalg.norm(a,ord=n)\n",
        "a = np.array([1,2,-3])\n",
        "\n",
        "print(chuan(a,1))\n",
        "print(np.linalg.norm(a, 1))\n",
        "print(chuan(a,2))\n",
        "print(np.linalg.norm(a, 2))\n",
        "print(chuan(a,3))\n",
        "print(np.linalg.norm(a, 3))\n",
        "print(chuan(a, 1000))\n",
        "print(np.linalg.norm(a, 1000))\n"
      ],
      "metadata": {
        "id": "qtQluPXsZEUq"
      },
      "execution_count": null,
      "outputs": []
    },
    {
      "cell_type": "code",
      "source": [
        "from scipy import linalg\n",
        "linalg.norm(a)\n",
        "print(linalg.norm(a))\n",
        "linalg.norm(a,100)\n",
        "print(linalg.norm(a,100))\n",
        "linalg.norm(a, 1000)\n",
        "print(linalg.norm(a, 1000))"
      ],
      "metadata": {
        "colab": {
          "base_uri": "https://localhost:8080/"
        },
        "id": "2tG3JviEbD7s",
        "outputId": "e4960cf9-8e19-49ea-a906-ae000f80ccaa"
      },
      "execution_count": null,
      "outputs": [
        {
          "output_type": "stream",
          "name": "stdout",
          "text": [
            "3.7416573867739413\n",
            "3.0\n",
            "inf\n"
          ]
        },
        {
          "output_type": "stream",
          "name": "stderr",
          "text": [
            "/usr/local/lib/python3.11/dist-packages/numpy/linalg/_linalg.py:2780: RuntimeWarning: overflow encountered in power\n",
            "  absx **= ord\n"
          ]
        }
      ]
    },
    {
      "cell_type": "code",
      "source": [
        "import numpy as np\n",
        "\n",
        "m = 10\n",
        "v1 = np.array([5,-4,3])\n",
        "v2 = np.array([4,3,-2])\n",
        "v3 = np.array([-4,-3,-1])\n",
        "v4 = np.array([-9,8,6])\n",
        "mi = np.array([2,5,2,1])\n",
        "\n",
        "M = np.array([v1,v2,v3,v4])\n",
        "MT = M.transpose()\n",
        "print(\"MT:\")\n",
        "print(MT)\n",
        "v = (1.0/m) * MT.dot(mi)\n",
        "print(\"\\nv:\")\n",
        "print(v)"
      ],
      "metadata": {
        "id": "qRChkIS3clV0"
      },
      "execution_count": null,
      "outputs": []
    },
    {
      "cell_type": "code",
      "source": [
        "import numpy as np\n",
        "\n",
        "A = np.array([[0.998, 0.136],\n",
        "              [0.002, 0.864]])\n",
        "\n",
        "v0 = np.array([0.95, 0.05])\n",
        "A_power_100 = np.linalg.matrix_power(A, 100)\n",
        "x_y_100 = A_power_100.dot(v0)\n",
        "\n",
        "x100 = x_y_100[0]\n",
        "y100 = x_y_100[1]\n",
        "\n",
        "print(\"Ma trận A:\")\n",
        "print(A)\n",
        "\n",
        "print(\"\\nVector v0:\")\n",
        "print(v0)\n",
        "\n",
        "print(\"\\nA^100:\")\n",
        "print(A_power_100)\n",
        "\n",
        "print(f\"\\nGiá trị (x100, y100) sau 100 bước:\")\n",
        "print(f\"({x100:.6f}, {y100:.6f})\")"
      ],
      "metadata": {
        "id": "R2cZvjJJdCQE"
      },
      "execution_count": null,
      "outputs": []
    },
    {
      "cell_type": "code",
      "source": [
        "import sympy as sym\n",
        "x, y = sym.symbols('x y')\n",
        "xy = sym.Matrix([x,y])\n",
        "A = sym.Matrix([[1, -68],[1,1]])\n",
        "v = sym.Matrix([0, 1])\n",
        "nghiem = sym.solve(A*xy - v)\n",
        "print(sym.pretty(nghiem))"
      ],
      "metadata": {
        "id": "n_vi-JHadT7k"
      },
      "execution_count": null,
      "outputs": []
    },
    {
      "cell_type": "code",
      "source": [
        "import numpy as np\n",
        "A = np.array([[1, 6],\n",
        "              [5, 2]])\n",
        "\n",
        "u = np.array([6, -5])\n",
        "Au = np.dot(A, u)\n",
        "\n",
        "lambda_u = -4 * u\n",
        "\n",
        "print(\"Ma trận A:\")\n",
        "print(A)\n",
        "\n",
        "print(\"\\nVector u:\")\n",
        "print(u)\n",
        "\n",
        "print(\"\\nKết quả của Au:\")\n",
        "print(Au)\n",
        "\n",
        "print(\"\\nKết quả của -4u:\")\n",
        "print(lambda_u)\n",
        "\n",
        "if np.array_equal(Au, lambda_u):\n",
        "    print(\"\\nAu = -4u. Phát biểu đã được kiểm chứng là ĐÚNG.\")\n",
        "else:\n",
        "    print(\"\\nAu != -4u. Phát biểu đã được kiểm chứng là SAI.\")"
      ],
      "metadata": {
        "id": "TQ3vWSGWdmfU"
      },
      "execution_count": null,
      "outputs": []
    },
    {
      "cell_type": "code",
      "source": [
        "import sympy\n",
        "x, y, Lambda = sympy.symbols('x y Lambda')\n",
        "\n",
        "I = sympy.eye(2)\n",
        "A = sympy.Matrix([[2, 3],\n",
        "                  [3, -6]])\n",
        "\n",
        "phuongtrinh = sympy.Eq(sympy.det(Lambda*I - A), 0)\n",
        "nghiem = sympy.solve(phuongtrinh, Lambda)\n",
        "\n",
        "print([sympy.N(phantu, 4) for phantu in nghiem])\n",
        "\n",
        "print(sympy.pretty(nghiem))"
      ],
      "metadata": {
        "id": "Ht6vxmZFdwyD"
      },
      "execution_count": null,
      "outputs": []
    },
    {
      "cell_type": "code",
      "source": [
        "import sympy\n",
        "x, y, Lambda = sympy.symbols('x y Lambda')\n",
        "A = sympy.Matrix([[2, 3],\n",
        "                  [3, -6]])\n",
        "vector_x = sympy.Matrix([x, y])\n",
        "eigenvalue_lambda = 3\n",
        "I = sympy.eye(2)\n",
        "matrix_system = A - eigenvalue_lambda * I\n",
        "equation_system = matrix_system * vector_x\n",
        "solution = sympy.solve(equation_system, (x, y))\n",
        "\n",
        "# In kết quả\n",
        "print(f\"Ma trận A:\\n{sympy.pretty(A)}\")\n",
        "print(f\"\\nVector x (cần tìm):\\n{sympy.pretty(vector_x)}\")\n",
        "print(f\"\\nTri riêng Lambda đã cho: {eigenvalue_lambda}\")\n",
        "print(f\"\\nMa trận hệ số (A - Lambda*I):\\n{sympy.pretty(matrix_system)}\")\n",
        "print(f\"\\nHệ phương trình (A - Lambda*I)x = 0:\\n{sympy.pretty(equation_system)}\")\n",
        "print(f\"\\nNghiệm của hệ phương trình (tập hợp các vector riêng):\\n{sympy.pretty(solution)}\")\n",
        "\n",
        "# Giải thích kết quả (tùy chọn)\n",
        "print(\"\\nGiải thích kết quả:\")\n",
        "print(\"Từ nghiệm trên, ta thấy rằng x = 3*y. Nếu đặt y = s (với s là số thực bất kỳ),\")\n",
        "print(\"thì x = 3*s. Do đó, vector riêng có dạng:\")\n",
        "print(\"  [3s]\")\n",
        "print(\"  [s ]\")\n",
        "print(\"Hay s * [3, 1]^T. Điều này khớp với gợi ý: E_3(A) = s * (3, 1)^T, s ∈ R.\")"
      ],
      "metadata": {
        "id": "juB_ma4_eMJE"
      },
      "execution_count": null,
      "outputs": []
    },
    {
      "cell_type": "code",
      "source": [
        "import numpy as np\n",
        "from numpy import linalg as LA\n",
        "\n",
        "A = np.array([[2,3],\n",
        "              [3,-6]])\n",
        "\n",
        "D = np.array([[-7.0,0],\n",
        "              [0,3.0]])\n",
        "\n",
        "P = np.array([[-1.0/3, 3],\n",
        "              [1, 1]])\n",
        "\n",
        "P1 = LA.inv(P)\n",
        "\n",
        "print(\"P^(-1):\")\n",
        "print(P1)\n",
        "print(\"\\n\" + \"=\"*30 + \"\\n\")\n",
        "AP = A.dot(P)\n",
        "PD = P.dot(D)\n",
        "\n",
        "print(\"A.dot(P):\")\n",
        "print(AP)\n",
        "print(\"\\nP.dot(D):\")\n",
        "print(PD)\n",
        "print(\"\\nKiểm tra A.dot(P) == P.dot(D):\")\n",
        "print(np.allclose(AP, PD))\n",
        "print(\"\\n\" + \"=\"*30 + \"\\n\")\n",
        "D_power_1000 = np.array([[D[0,0]**1000, 0],\n",
        "                         [0, D[1,1]**1000]])\n",
        "A_power_1000 = P @ D_power_1000 @ P1\n",
        "print(\"A^1000:\")\n",
        "print(A_power_1000)\n",
        "print(\"\\n\" + \"=\"*30 + \"\\n\")\n",
        "print(\"D**2:\")\n",
        "print(D**2)"
      ],
      "metadata": {
        "id": "EiOouaJQeyxc"
      },
      "execution_count": null,
      "outputs": []
    },
    {
      "cell_type": "markdown",
      "source": [
        "BT VE NHA"
      ],
      "metadata": {
        "id": "oHZBMe5_fYd2"
      }
    },
    {
      "cell_type": "code",
      "source": [
        "import numpy as np\n",
        "a = np.array([1,2,3])\n",
        "mag = np.sqrt(a.dot(a))\n",
        "print(mag)"
      ],
      "metadata": {
        "id": "bm9w6307fcQ8"
      },
      "execution_count": null,
      "outputs": []
    },
    {
      "cell_type": "code",
      "source": [
        "import numpy as np\n",
        "\n",
        "def calculate_distance(u, v):\n",
        "\n",
        "    if u.shape != v.shape:\n",
        "        raise ValueError(\"Hai vector phải có cùng kích thước.\")\n",
        "\n",
        "    diff_vector = u - v\n",
        "\n",
        "    distance = np.linalg.norm(diff_vector)\n",
        "\n",
        "    return distance\n",
        "def calculate_angle(u, v):\n",
        "\n",
        "    if u.shape != v.shape:\n",
        "        raise ValueError(\"Hai vector phải có cùng kích thước.\")\n",
        "\n",
        "    dot_product = np.dot(u, v)\n",
        "\n",
        "    norm_u = np.linalg.norm(u)\n",
        "    norm_v = np.linalg.norm(v)\n",
        "\n",
        "    if norm_u == 0 or norm_v == 0:\n",
        "        print(\"Cảnh báo: Một trong các vector là vector 0. Không thể tính góc.\")\n",
        "        return np.nan\n",
        "\n",
        "    cos_theta = dot_product / (norm_u * norm_v)\n",
        "\n",
        "    cos_theta = np.clip(cos_theta, -1.0, 1.0)\n",
        "\n",
        "    theta = np.arccos(cos_theta)\n",
        "\n",
        "    return theta\n",
        "\n",
        "def calculate_orthogonal_projection(u, v):\n",
        "\n",
        "    if u.shape != v.shape:\n",
        "        raise ValueError(\"Hai vector phải có cùng kích thước.\")\n",
        "\n",
        "    dot_uv = np.dot(u, v)\n",
        "\n",
        "    dot_vv = np.dot(v, v)\n",
        "\n",
        "    if dot_vv == 0:\n",
        "        print(\"Cảnh báo: Vector v là vector 0. Phép chiếu không xác định, trả về vector 0.\")\n",
        "        return np.zeros_like(v)\n",
        "\n",
        "    scalar_factor = dot_uv / dot_vv\n",
        "\n",
        "    projection = scalar_factor * v\n",
        "\n",
        "    return projection\n",
        "\n",
        "if __name__ == \"__main__\":\n",
        "    print(\"--- Ví dụ minh họa các hàm ---\")\n",
        "\n",
        "    u1 = np.array([1, 2, 3])\n",
        "    v1 = np.array([4, 5, 6])\n",
        "    u2 = np.array([1, 0])\n",
        "    v2 = np.array([0, 1])\n",
        "    u3 = np.array([1, 1])\n",
        "    v3 = np.array([2, 2])\n",
        "    u4 = np.array([0, 0, 0])\n",
        "    v4 = np.array([1, 1, 1])\n",
        "\n",
        "    print(\"\\n--- a. Khoảng cách giữa 2 vector ---\")\n",
        "    dist1 = calculate_distance(u1, v1)\n",
        "    print(f\"Khoảng cách giữa {u1} và {v1}: {dist1:.4f}\")\n",
        "\n",
        "    dist2 = calculate_distance(u2, v2)\n",
        "    print(f\"Khoảng cách giữa {u2} và {v2}: {dist2:.4f}\")\n",
        "\n",
        "    print(\"\\n--- b. Góc giữa 2 vector ---\")\n",
        "    angle1 = calculate_angle(u1, v1)\n",
        "    print(f\"Góc (radians) giữa {u1} và {v1}: {angle1:.4f}\")\n",
        "\n",
        "    angle2 = calculate_angle(u2, v2)\n",
        "    print(f\"Góc (radians) giữa {u2} và {v2}: {angle2:.4f}\")\n",
        "    angle3 = calculate_angle(u3, v3)\n",
        "    print(f\"Góc (radians) giữa {u3} và {v3}: {angle3:.4f}\")\n",
        "\n",
        "    angle_zero_u = calculate_angle(u4, v4)\n",
        "    print(f\"Góc (radians) giữa {u4} và {v4}: {angle_zero_u}\")\n",
        "\n",
        "    print(\"\\n--- c. Phép chiếu trực giao ---\")\n",
        "    proj1 = calculate_orthogonal_projection(u1, v1)\n",
        "    print(f\"Phép chiếu của {u1} lên {v1}: {proj1}\")\n",
        "\n",
        "    proj2 = calculate_orthogonal_projection(u2, v2)\n",
        "    print(f\"Phép chiếu của {u2} lên {v2}: {proj2}\")\n",
        "\n",
        "    proj3 = calculate_orthogonal_projection(u3, v3)\n",
        "    print(f\"Phép chiếu của {u3} lên {v3}: {proj3}\")\n",
        "\n",
        "    proj_onto_zero = calculate_orthogonal_projection(u1, u4)\n",
        "    print(f\"Phép chiếu của {u1} lên {u4} (vector 0): {proj_onto_zero}\")"
      ],
      "metadata": {
        "colab": {
          "base_uri": "https://localhost:8080/"
        },
        "id": "G4qnt88hf6lM",
        "outputId": "553bfd3d-2f56-4b09-a341-75a535a11b0c"
      },
      "execution_count": null,
      "outputs": [
        {
          "output_type": "stream",
          "name": "stdout",
          "text": [
            "--- Ví dụ minh họa các hàm ---\n",
            "\n",
            "--- a. Khoảng cách giữa 2 vector ---\n",
            "Khoảng cách giữa [1 2 3] và [4 5 6]: 5.1962\n",
            "Khoảng cách giữa [1 0] và [0 1]: 1.4142\n",
            "\n",
            "--- b. Góc giữa 2 vector ---\n",
            "Góc (radians) giữa [1 2 3] và [4 5 6]: 0.2257\n",
            "Góc (radians) giữa [1 0] và [0 1]: 1.5708\n",
            "Góc (radians) giữa [1 1] và [2 2]: 0.0000\n",
            "Cảnh báo: Một trong các vector là vector 0. Không thể tính góc.\n",
            "Góc (radians) giữa [0 0 0] và [1 1 1]: nan\n",
            "\n",
            "--- c. Phép chiếu trực giao ---\n",
            "Phép chiếu của [1 2 3] lên [4 5 6]: [1.66233766 2.07792208 2.49350649]\n",
            "Phép chiếu của [1 0] lên [0 1]: [0. 0.]\n",
            "Phép chiếu của [1 1] lên [2 2]: [1. 1.]\n",
            "Cảnh báo: Vector v là vector 0. Phép chiếu không xác định, trả về vector 0.\n",
            "Phép chiếu của [1 2 3] lên [0 0 0] (vector 0): [0 0 0]\n"
          ]
        }
      ]
    }
  ]
}