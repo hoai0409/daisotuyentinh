{
  "nbformat": 4,
  "nbformat_minor": 0,
  "metadata": {
    "colab": {
      "provenance": []
    },
    "kernelspec": {
      "name": "python3",
      "display_name": "Python 3"
    },
    "language_info": {
      "name": "python"
    }
  },
  "cells": [
    {
      "cell_type": "markdown",
      "source": [
        "B1"
      ],
      "metadata": {
        "id": "PtLS35Roh_Uj"
      }
    },
    {
      "cell_type": "code",
      "source": [
        "import numpy as np\n",
        "\n",
        "# Define vectors A and B\n",
        "A = np.array([2, -1, 3, 0])\n",
        "B = np.array([1, 4, -2, 5])\n",
        "\n",
        "# Calculate A + B\n",
        "sum_AB = A + B\n",
        "print(f\"a) A + B = {sum_AB}\")\n",
        "\n",
        "# Calculate 3A - 2B\n",
        "result_3A_2B = 3 * A - 2 * B\n",
        "print(f\"   3A - 2B = {result_3A_2B}\")"
      ],
      "metadata": {
        "colab": {
          "base_uri": "https://localhost:8080/"
        },
        "id": "6h8yZZ-qiAFk",
        "outputId": "3f3593f8-b2a5-4cc0-f427-f572ae39a536"
      },
      "execution_count": null,
      "outputs": [
        {
          "output_type": "stream",
          "name": "stdout",
          "text": [
            "a) A + B = [3 3 1 5]\n",
            "   3A - 2B = [  4 -11  13 -10]\n"
          ]
        }
      ]
    },
    {
      "cell_type": "code",
      "source": [
        "import numpy as np\n",
        "\n",
        "A = np.array([2, -1, 3, 0])\n",
        "B = np.array([1, 4, -2, 5])\n",
        "\n",
        "# Calculate dot product A . B\n",
        "dot_product_AB = np.dot(A, B)\n",
        "print(f\"b) Tích vô hướng A . B = {dot_product_AB}\")\n",
        "\n",
        "# Calculate magnitudes (norms) of A and B\n",
        "norm_A = np.linalg.norm(A)\n",
        "norm_B = np.linalg.norm(B)\n",
        "\n",
        "# Calculate cosine of the angle\n",
        "if norm_A * norm_B != 0:\n",
        "    cos_theta = dot_product_AB / (norm_A * norm_B)\n",
        "    print(f\"   cos(theta) = {cos_theta:.6f}\") # Print with more precision for checking\n",
        "\n",
        "    # Calculate angle in radians and then convert to degrees\n",
        "    theta_radians = np.arccos(np.clip(cos_theta, -1.0, 1.0)) # Clip to handle potential floating point inaccuracies\n",
        "    theta_degrees = np.degrees(theta_radians)\n",
        "    print(f\"   Góc giữa hai vector (độ) = {theta_degrees:.3f} độ\")\n",
        "else:\n",
        "    print(\"   Không thể tính góc vì ít nhất một vector có độ dài bằng 0.\")"
      ],
      "metadata": {
        "colab": {
          "base_uri": "https://localhost:8080/"
        },
        "id": "9YQ_WoyZiYxf",
        "outputId": "15b0bb1b-36ba-45ff-d126-47c61f2649d3"
      },
      "execution_count": null,
      "outputs": [
        {
          "output_type": "stream",
          "name": "stdout",
          "text": [
            "b) Tích vô hướng A . B = -8\n",
            "   cos(theta) = -0.315244\n",
            "   Góc giữa hai vector (độ) = 108.376 độ\n"
          ]
        }
      ]
    },
    {
      "cell_type": "code",
      "source": [
        "import numpy as np\n",
        "\n",
        "# Define matrix C\n",
        "C = np.array([[1, 2],\n",
        "              [-1, 0],\n",
        "              [3, -1],\n",
        "              [2, -1]])\n",
        "\n",
        "# Calculate the transpose of C\n",
        "C_transpose = C.T\n",
        "print(\"c) Ma trận C^T:\\n\", C_transpose)\n",
        "\n",
        "# Calculate the product C^T * C\n",
        "product_CTC = np.dot(C_transpose, C)\n",
        "print(\"   Tích ma trận C^T * C:\\n\", product_CTC)"
      ],
      "metadata": {
        "colab": {
          "base_uri": "https://localhost:8080/"
        },
        "id": "xTD_8m_8ieWR",
        "outputId": "e0689f9d-2e00-46d2-8e0b-b3f0c4f2dd6d"
      },
      "execution_count": null,
      "outputs": [
        {
          "output_type": "stream",
          "name": "stdout",
          "text": [
            "c) Ma trận C^T:\n",
            " [[ 1 -1  3  2]\n",
            " [ 2  0 -1 -1]]\n",
            "   Tích ma trận C^T * C:\n",
            " [[15 -3]\n",
            " [-3  6]]\n"
          ]
        }
      ]
    },
    {
      "cell_type": "markdown",
      "source": [
        "B2"
      ],
      "metadata": {
        "id": "9hDzCTRCigFy"
      }
    },
    {
      "cell_type": "code",
      "source": [
        "import numpy as np\n",
        "\n",
        "# Define matrices M and N\n",
        "M = np.array([[1, 2, 3, 0],\n",
        "              [4, 5, 6, 1],\n",
        "              [7, 8, 9, 0],\n",
        "              [0, 1, 1, 0]])\n",
        "\n",
        "N = np.array([[0, 1, 2, 3],\n",
        "              [4, 5, 6, 7],\n",
        "              [8, 9, 10, 11],\n",
        "              [12, 13, 14, 15]])\n",
        "\n",
        "# Calculate M * N\n",
        "product_MN = np.dot(M, N)\n",
        "print(f\"a) Tích ma trận M * N:\\n{product_MN}\")\n",
        "\n",
        "# Calculate M * N - N\n",
        "result_MN_minus_N = product_MN - N\n",
        "print(f\"   Kết quả M * N - N:\\n{result_MN_minus_N}\")"
      ],
      "metadata": {
        "colab": {
          "base_uri": "https://localhost:8080/"
        },
        "id": "Uxph8Kjliihp",
        "outputId": "e6e9e0c6-1d27-4937-e5bb-3cd3bf4ec1cf"
      },
      "execution_count": null,
      "outputs": [
        {
          "output_type": "stream",
          "name": "stdout",
          "text": [
            "a) Tích ma trận M * N:\n",
            "[[ 32  38  44  50]\n",
            " [ 80  96 112 128]\n",
            " [104 128 152 176]\n",
            " [ 12  14  16  18]]\n",
            "   Kết quả M * N - N:\n",
            "[[ 32  37  42  47]\n",
            " [ 76  91 106 121]\n",
            " [ 96 119 142 165]\n",
            " [  0   1   2   3]]\n"
          ]
        }
      ]
    },
    {
      "cell_type": "code",
      "source": [
        "import numpy as np\n",
        "\n",
        "M = np.array([[1, 2, 3, 0],\n",
        "              [4, 5, 6, 1],\n",
        "              [7, 8, 9, 0],\n",
        "              [0, 1, 1, 0]])\n",
        "\n",
        "# Calculate the determinant of M\n",
        "det_M = np.linalg.det(M)\n",
        "print(f\"b) Định thức của ma trận M = {det_M:.6f}\")\n",
        "\n",
        "# Check if M is invertible\n",
        "if det_M != 0:\n",
        "    print(\"   Ma trận M khả nghịch vì định thức của nó khác 0.\")\n",
        "else:\n",
        "    print(\"   Ma trận M không khả nghịch vì định thức của nó bằng 0.\")"
      ],
      "metadata": {
        "colab": {
          "base_uri": "https://localhost:8080/"
        },
        "id": "h1XFPlaojBF3",
        "outputId": "83dd2445-3f07-400a-a523-d70beaf6c159"
      },
      "execution_count": null,
      "outputs": [
        {
          "output_type": "stream",
          "name": "stdout",
          "text": [
            "b) Định thức của ma trận M = 6.000000\n",
            "   Ma trận M khả nghịch vì định thức của nó khác 0.\n"
          ]
        }
      ]
    },
    {
      "cell_type": "code",
      "source": [
        "import numpy as np\n",
        "\n",
        "M = np.array([[1, 2, 3, 0],\n",
        "              [4, 5, 6, 1],\n",
        "              [7, 8, 9, 0],\n",
        "              [0, 1, 1, 0]])\n",
        "\n",
        "# Calculate the rank of M\n",
        "rank_M = np.linalg.matrix_rank(M)\n",
        "print(f\"c) Hạng của ma trận M = {rank_M}\")"
      ],
      "metadata": {
        "colab": {
          "base_uri": "https://localhost:8080/"
        },
        "id": "6gybtE2Jiju1",
        "outputId": "14f995e7-6d60-44bc-80a7-dd6553c99e95"
      },
      "execution_count": null,
      "outputs": [
        {
          "output_type": "stream",
          "name": "stdout",
          "text": [
            "c) Hạng của ma trận M = 4\n"
          ]
        }
      ]
    },
    {
      "cell_type": "markdown",
      "source": [
        "B3"
      ],
      "metadata": {
        "id": "k_hWhc_likxl"
      }
    },
    {
      "cell_type": "code",
      "source": [
        "import numpy as np\n",
        "\n",
        "# Dữ liệu từ đề bài Câu 3\n",
        "P = np.array([\n",
        "    [2, 1, 0, 1],\n",
        "    [0, 3, 1, -1],\n",
        "    [1, 0, 4, 2],\n",
        "    [0, 1, 0, 3]\n",
        "])\n",
        "\n",
        "b = np.array([3, 7, 9, 5])\n",
        "\n",
        "print(\"--- Lời giải cho Câu 3 ---\")\n",
        "\n",
        "# a) Tìm ma trận nghịch đảo của P\n",
        "det_P = np.linalg.det(P)\n",
        "print(f\"a) Định thức của P là: {det_P:.2f}\")\n",
        "\n",
        "if det_P != 0:\n",
        "    P_inv = np.linalg.inv(P)\n",
        "    print(\"Ma trận P khả nghịch. Ma trận nghịch đảo P⁻¹ là:\")\n",
        "    print(np.round(P_inv, 3))\n",
        "else:\n",
        "    print(\"Ma trận P không khả nghịch.\")\n",
        "\n",
        "# b) Giải hệ phương trình bằng ma trận nghịch đảo\n",
        "x = P_inv @ b\n",
        "print(\"\\nb) Nghiệm của hệ phương trình (x, y, z, w) là:\")\n",
        "print(np.round(x, 3))\n",
        "\n",
        "# c) Kiểm tra lại nghiệm\n",
        "verification = P @ x\n",
        "print(\"\\nc) Kiểm tra lại nghiệm (P * x):\")\n",
        "print(np.round(verification, 3))\n",
        "print(\"Vector hằng số b ban đầu:\")\n",
        "print(b)\n",
        "\n",
        "if np.allclose(verification, b):\n",
        "    print(\"=> Kết quả kiểm tra chính xác!\")\n",
        "else:\n",
        "    print(\"=> Kết quả kiểm tra có sai lệch.\")"
      ],
      "metadata": {
        "id": "Mjf9WxWLil_q"
      },
      "execution_count": null,
      "outputs": []
    },
    {
      "cell_type": "markdown",
      "source": [
        "B4"
      ],
      "metadata": {
        "id": "DdOUjTJ0jOym"
      }
    },
    {
      "cell_type": "code",
      "source": [
        "import numpy as np\n",
        "\n",
        "Q_corrected = np.array([\n",
        "    [1, -1, 0],\n",
        "    [-1, 2, 1],\n",
        "    [0, 1, 1]\n",
        "])\n",
        "\n",
        "print(\"\\n--- Lời giải cho Câu 4 (với ma trận đã sửa) ---\")\n",
        "print(\"Ma trận Q (đã sửa) được sử dụng:\")\n",
        "print(Q_corrected)\n",
        "\n",
        "# a) Tìm các giá trị riêng\n",
        "# b) Tìm các vector riêng\n",
        "# Hàm np.linalg.eig sẽ tính cả hai cùng lúc.\n",
        "# eigenvalues là một mảng các giá trị riêng.\n",
        "# eigenvectors là một ma trận với mỗi cột là một vector riêng tương ứng.\n",
        "eigenvalues, eigenvectors = np.linalg.eig(Q_corrected)\n",
        "\n",
        "print(\"\\na) Các giá trị riêng (eigenvalues) là:\")\n",
        "print(np.round(eigenvalues, 3))\n",
        "\n",
        "print(\"\\nb) Các vector riêng (eigenvectors) tương ứng (mỗi cột là một vector):\")\n",
        "print(np.round(eigenvectors, 3))\n",
        "\n",
        "# c) Chuẩn hóa tất cả các vector riêng\n",
        "print(\"\\nc) Các vector riêng đã được chuẩn hóa (độ dài bằng 1):\")\n",
        "for i in range(len(eigenvectors)):\n",
        "    vector = eigenvectors[:, i]\n",
        "    # np.linalg.norm tính độ dài (chuẩn L2) của vector\n",
        "    normalized_vector = vector / np.linalg.norm(vector)\n",
        "    print(f\"Vector chuẩn hóa cho λ = {eigenvalues[i]:.2f}:\")\n",
        "    print(np.round(normalized_vector, 3))\n",
        "    print(\"-\" * 15)"
      ],
      "metadata": {
        "colab": {
          "base_uri": "https://localhost:8080/"
        },
        "id": "J_ndwJb6jPDu",
        "outputId": "0a67b68d-24e5-4e7a-d0b6-31514a98ad44"
      },
      "execution_count": null,
      "outputs": [
        {
          "output_type": "stream",
          "name": "stdout",
          "text": [
            "\n",
            "--- Lời giải cho Câu 4 (với ma trận đã sửa) ---\n",
            "Ma trận Q (đã sửa) được sử dụng:\n",
            "[[ 1 -1  0]\n",
            " [-1  2  1]\n",
            " [ 0  1  1]]\n",
            "\n",
            "a) Các giá trị riêng (eigenvalues) là:\n",
            "[ 3.  1. -0.]\n",
            "\n",
            "b) Các vector riêng (eigenvectors) tương ứng (mỗi cột là một vector):\n",
            "[[-0.408 -0.707 -0.577]\n",
            " [ 0.816  0.    -0.577]\n",
            " [ 0.408 -0.707  0.577]]\n",
            "\n",
            "c) Các vector riêng đã được chuẩn hóa (độ dài bằng 1):\n",
            "Vector chuẩn hóa cho λ = 3.00:\n",
            "[-0.408  0.816  0.408]\n",
            "---------------\n",
            "Vector chuẩn hóa cho λ = 1.00:\n",
            "[-0.707  0.    -0.707]\n",
            "---------------\n",
            "Vector chuẩn hóa cho λ = -0.00:\n",
            "[-0.577 -0.577  0.577]\n",
            "---------------\n"
          ]
        }
      ]
    },
    {
      "cell_type": "markdown",
      "source": [
        "B5"
      ],
      "metadata": {
        "id": "HT0tvJPCjRBI"
      }
    },
    {
      "cell_type": "code",
      "source": [
        "import numpy as np\n",
        "\n",
        "# Dữ liệu từ đề bài Câu 5\n",
        "R = np.array([\n",
        "    [1, -2, 0],\n",
        "    [2, 0, 1],\n",
        "    [1, 1, -1]\n",
        "])\n",
        "\n",
        "h = np.array([10, 8, 7])\n",
        "\n",
        "print(\"\\n--- Lời giải cho Câu 5 ---\")\n",
        "\n",
        "# a) Giải hệ phương trình Rx = h bằng linalg.solve()\n",
        "print(\"a) Giải hệ phương trình bằng linalg.solve():\")\n",
        "x_solve = np.linalg.solve(R, h)\n",
        "print(\"Nghiệm của hệ (x, y, z) là:\")\n",
        "print(np.round(x_solve, 3))\n",
        "\n",
        "# b) Kiểm tra tính khả nghịch, tìm ma trận nghịch đảo và giải lại\n",
        "print(\"\\nb) Kiểm tra và giải lại bằng ma trận nghịch đảo:\")\n",
        "det_R = np.linalg.det(R)\n",
        "print(f\"Định thức của R là: {det_R:.2f}\")\n",
        "\n",
        "if det_R != 0:\n",
        "    print(\"Ma trận R khả nghịch.\")\n",
        "    # Tìm ma trận nghịch đảo\n",
        "    R_inv = np.linalg.inv(R)\n",
        "    print(\"Ma trận nghịch đảo R⁻¹ là:\")\n",
        "    print(np.round(R_inv, 3))\n",
        "\n",
        "    # Giải lại hệ phương trình: x = R⁻¹ * h\n",
        "    x_inv = R_inv @ h\n",
        "    print(\"\\nNghiệm tìm được bằng ma trận nghịch đảo:\")\n",
        "    print(np.round(x_inv, 3))\n",
        "\n",
        "    # So sánh kết quả\n",
        "    if np.allclose(x_solve, x_inv):\n",
        "        print(\"=> Hai phương pháp cho ra cùng một kết quả.\")\n",
        "    else:\n",
        "        print(\"=> Hai phương pháp cho ra kết quả khác nhau.\")\n",
        "else:\n",
        "    print(\"Ma trận R không khả nghịch.\")\n",
        "\n",
        "# c) Tính chuẩn Frobenius của ma trận R\n",
        "# Chuẩn Frobenius là căn bậc hai của tổng bình phương tất cả các phần tử.\n",
        "frobenius_norm = np.linalg.norm(R, 'fro')\n",
        "print(f\"\\nc) Chuẩn Frobenius của ma trận R là: {frobenius_norm:.3f}\")"
      ],
      "metadata": {
        "colab": {
          "base_uri": "https://localhost:8080/"
        },
        "id": "04ridDesjR_G",
        "outputId": "975ec1d5-96cd-4d7c-92ad-22e85ee77cf2"
      },
      "execution_count": null,
      "outputs": [
        {
          "output_type": "stream",
          "name": "stdout",
          "text": [
            "\n",
            "--- Lời giải cho Câu 5 ---\n",
            "a) Giải hệ phương trình bằng linalg.solve():\n",
            "Nghiệm của hệ (x, y, z) là:\n",
            "[ 5.714 -2.143 -3.429]\n",
            "\n",
            "b) Kiểm tra và giải lại bằng ma trận nghịch đảo:\n",
            "Định thức của R là: -7.00\n",
            "Ma trận R khả nghịch.\n",
            "Ma trận nghịch đảo R⁻¹ là:\n",
            "[[ 0.143  0.286  0.286]\n",
            " [-0.429  0.143  0.143]\n",
            " [-0.286  0.429 -0.571]]\n",
            "\n",
            "Nghiệm tìm được bằng ma trận nghịch đảo:\n",
            "[ 5.714 -2.143 -3.429]\n",
            "=> Hai phương pháp cho ra cùng một kết quả.\n",
            "\n",
            "c) Chuẩn Frobenius của ma trận R là: 3.606\n"
          ]
        }
      ]
    }
  ]
}