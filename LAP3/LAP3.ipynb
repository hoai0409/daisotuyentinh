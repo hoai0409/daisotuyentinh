{
  "nbformat": 4,
  "nbformat_minor": 0,
  "metadata": {
    "colab": {
      "provenance": []
    },
    "kernelspec": {
      "name": "python3",
      "display_name": "Python 3"
    },
    "language_info": {
      "name": "python"
    }
  },
  "cells": [
    {
      "cell_type": "markdown",
      "source": [
        "BAI TAP"
      ],
      "metadata": {
        "id": "CmBpBuo3V3hf"
      }
    },
    {
      "cell_type": "code",
      "execution_count": null,
      "metadata": {
        "colab": {
          "base_uri": "https://localhost:8080/"
        },
        "collapsed": true,
        "id": "imeVQZUXLeUX",
        "outputId": "d6bed04d-3997-4c3c-f039-4f8cd01cbf00"
      },
      "outputs": [
        {
          "output_type": "stream",
          "name": "stdout",
          "text": [
            "[1 2 3]\n",
            "[[1.+9.j 0.+2.j 0.+3.j]\n",
            " [0.+4.j 0.+5.j 0.+6.j]]\n",
            "[[[ 0.5  1.5 10. ]\n",
            "  [ 3.   2.   1. ]]\n",
            "\n",
            " [[ 6.   5.   4. ]\n",
            "  [ 7.   8.   9. ]]]\n",
            "[[0.36826793 0.31498648]\n",
            " [0.81401223 0.8375888 ]]\n",
            "[[1.+9.j 0.+2.j 0.+3.j]\n",
            " [0.+4.j 0.+5.j 0.+6.j]]\n",
            "[[0.98313482 0.07125213 0.32966956 0.6631767  0.82159464]\n",
            " [0.11622027 0.4875436  0.81146025 0.18308188 0.89215284]\n",
            " [0.57311142 0.47723913 0.15370603 0.87156652 0.70489218]\n",
            " [0.76818446 0.36481271 0.63175464 0.07573621 0.99546937]\n",
            " [0.41033017 0.78517333 0.64338635 0.02372894 0.29092395]\n",
            " [0.05453452 0.75665568 0.10329294 0.2078575  0.38599341]\n",
            " [0.09780734 0.16319422 0.06909448 0.98907794 0.45924262]\n",
            " [0.59980038 0.85888867 0.31116517 0.74183622 0.72053149]\n",
            " [0.82982327 0.59401266 0.09883808 0.53115177 0.02542389]\n",
            " [0.54464109 0.5207158  0.43977284 0.77572486 0.69123174]]\n",
            "[[4 3]\n",
            " [2 6]]\n",
            "[[0. 1. 0.]\n",
            " [0. 0. 1.]\n",
            " [0. 0. 0.]]\n",
            "[[1. 0. 0.]\n",
            " [0. 1. 0.]\n",
            " [0. 0. 1.]]\n",
            "[[0. 0. 0.]\n",
            " [1. 0. 0.]\n",
            " [0. 1. 0.]]\n",
            "5\n",
            "[[ 16.09069145  -6.05111997]\n",
            " [-15.63776835   7.07469544]]\n",
            "[[ 16.09069145  -6.05111997]\n",
            " [-15.63776835   7.07469544]]\n",
            "0.05205424522246896\n",
            "[[0.36826793 0.81401223]\n",
            " [0.31498648 0.8375888 ]]\n",
            "[[0.36826793 0.81401223]\n",
            " [0.31498648 0.8375888 ]]\n",
            "[[ 16.09069145+120.61174316j   0.          +1.92578305j\n",
            "    0.         +11.96535452j]\n",
            " [-15.63776835-112.44113336j  -0.          +4.09794049j\n",
            "    0.          -4.46513242j]]\n",
            "[[1]\n",
            " [2]\n",
            " [3]]\n",
            "(array([[0.],\n",
            "       [1.],\n",
            "       [2.]]), array([], dtype=float64), 2, array([1., 1., 0.]))\n",
            "[[4.36826793 3.31498648]\n",
            " [2.81401223 6.8375888 ]]\n",
            "[[-3.63173207 -2.68501352]\n",
            " [-1.18598777 -5.1624112 ]]\n",
            "[[0.09206698 0.10499549]\n",
            " [0.40700611 0.13959813]]\n",
            "[[2.10304469 2.99472269]\n",
            " [4.93122651 7.46756948]]\n",
            "[[1.47307172 0.94495945]\n",
            " [1.62802446 5.02553279]]\n",
            "[[2.10304469 2.99472269]\n",
            " [4.93122651 7.46756948]]\n",
            "[[1.47307172]]\n",
            "[[1.66808117 0.60597634]\n",
            " [1.56601054 2.57096862]]\n",
            "[[-2.16185053  0.9182942 ]\n",
            " [ 2.3731263  -0.79361839]]\n"
          ]
        }
      ],
      "source": [
        "from scipy import linalg\n",
        "import numpy as np\n",
        "\n",
        "a = np.array([1, 2, 3])\n",
        "b = np.array([(1+9j, 2j, 3j), (4j, 5j, 6j)]) # số phức\n",
        "c = np.array([[ (0.5, 1.5, 10), (3,2,1) ] , [(6,5,4), (7,8,9)]]) # ma trận số thực\n",
        "A = np.matrix(np.random.random( (2,2) ) )\n",
        "B = np.asmatrix(b) # Chuyển b thành dạng ma trận\n",
        "C = np.asmatrix(np.random.random( (10,5) ) )\n",
        "D = np.asmatrix([ [4, 3], [2, 6] ])\n",
        "F = np.eye(3, k=1)\n",
        "E = np.eye(3, k=0)\n",
        "G = np.eye(3, k=-1)\n",
        "np.linalg.matrix_rank(C)\n",
        "A.I\n",
        "linalg.inv(A)\n",
        "linalg.det(A)\n",
        "A.T\n",
        "A.H\n",
        "linalg.solve(A, b)\n",
        "np.asmatrix(a).T\n",
        "linalg.lstsq(F, E)\n",
        "np.add(A, D)\n",
        "np.subtract(A, D)\n",
        "np.divide(A, D)\n",
        "A @ D\n",
        "np.multiply(D, A)\n",
        "np.dot(A, D)\n",
        "np.vdot(A, D)\n",
        "linalg.expm(A)\n",
        "print(a)\n",
        "print(b)\n",
        "print(c)\n",
        "print(A)\n",
        "print(B)\n",
        "print(C)\n",
        "print(D)\n",
        "print(F)\n",
        "print(E)\n",
        "print(G)\n",
        "print(np.linalg.matrix_rank(C) )\n",
        "print(A.I)\n",
        "print(linalg.inv(A))\n",
        "print(linalg.det(A))\n",
        "print(A.T)\n",
        "print(A.H)\n",
        "print(linalg.solve(A, b))\n",
        "print(np.asmatrix(a).T)\n",
        "print(linalg.lstsq(F, np.asmatrix(a).T))\n",
        "print(np.add(A, D))\n",
        "print(np.subtract(A, D))\n",
        "print(np.divide(A, D))\n",
        "print(A @ D)\n",
        "print(np.multiply(D, A))\n",
        "print(np.dot(A, D))\n",
        "print(np.vdot(A, D))\n",
        "print( linalg.expm(A) )\n",
        "linalg.logm(A)\n",
        "print( linalg.logm(A) )"
      ]
    },
    {
      "cell_type": "code",
      "source": [
        "import numpy as np\n",
        "A = np.array([ [0,1], [1,0]])\n",
        "print(A)\n",
        "temp = A.dot(A) # tính toan lần thứ 1\n",
        "print(temp)\n",
        "k= 6\n",
        "for i in range(k-1):\n",
        " temp = temp.dot(A)\n",
        " print (temp)\n",
        " print('---')\n",
        "B = np.array([ [0,-1], [-1,0]])\n",
        "print(B)\n",
        "temp = B.dot(B) # tính toan lần thứ 1\n",
        "print(temp)\n",
        "k= 5\n",
        "for i in range(k-1):\n",
        " temp = temp.dot(B)\n",
        " print (temp)\n",
        " print('---')\n",
        "C = np.array([ [1, 0, 0], [0, 0.5, 1], [0, 0, 0.5] ])\n",
        "print(C)\n",
        "temp = C.dot(C)\n",
        "print(temp)\n",
        "k= 1000\n",
        "for i in range(k-1):\n",
        " temp = temp.dot(C)\n",
        "print(temp)\n",
        "k= 1000\n",
        "for i in range(k-1):\n",
        " temp = temp.dot(C)\n",
        "print(temp)\n",
        "\n"
      ],
      "metadata": {
        "colab": {
          "base_uri": "https://localhost:8080/"
        },
        "collapsed": true,
        "id": "nsw_xc6VVzgQ",
        "outputId": "93866d64-cb0c-434f-84f7-36af224d4526"
      },
      "execution_count": null,
      "outputs": [
        {
          "output_type": "stream",
          "name": "stdout",
          "text": [
            "[[0 1]\n",
            " [1 0]]\n",
            "[[1 0]\n",
            " [0 1]]\n",
            "[[0 1]\n",
            " [1 0]]\n",
            "---\n",
            "[[1 0]\n",
            " [0 1]]\n",
            "---\n",
            "[[0 1]\n",
            " [1 0]]\n",
            "---\n",
            "[[1 0]\n",
            " [0 1]]\n",
            "---\n",
            "[[0 1]\n",
            " [1 0]]\n",
            "---\n",
            "[[ 0 -1]\n",
            " [-1  0]]\n",
            "[[1 0]\n",
            " [0 1]]\n",
            "[[ 0 -1]\n",
            " [-1  0]]\n",
            "---\n",
            "[[1 0]\n",
            " [0 1]]\n",
            "---\n",
            "[[ 0 -1]\n",
            " [-1  0]]\n",
            "---\n",
            "[[1 0]\n",
            " [0 1]]\n",
            "---\n",
            "[[1.  0.  0. ]\n",
            " [0.  0.5 1. ]\n",
            " [0.  0.  0.5]]\n",
            "[[1.   0.   0.  ]\n",
            " [0.   0.25 1.  ]\n",
            " [0.   0.   0.25]]\n",
            "[[1.00000000e+000 0.00000000e+000 0.00000000e+000]\n",
            " [0.00000000e+000 4.66631809e-302 9.34196882e-299]\n",
            " [0.00000000e+000 0.00000000e+000 4.66631809e-302]]\n",
            "[[1. 0. 0.]\n",
            " [0. 0. 0.]\n",
            " [0. 0. 0.]]\n"
          ]
        }
      ]
    },
    {
      "cell_type": "code",
      "source": [
        "M = np.array([ [0.8, 0.3], [0.2, 0.7]])\n",
        "MM = M.dot(M) # tính M2, nghĩa là M2\n",
        "print (MM)\n",
        "MM = M.dot(M) # tính M3\n",
        "print (MM)\n",
        "for i in range(100): # tính các M^ khác.\n",
        " MM = MM.dot(M)\n",
        "print (MM) # kết luận xu hướng của jb\n",
        "\n"
      ],
      "metadata": {
        "colab": {
          "base_uri": "https://localhost:8080/"
        },
        "collapsed": true,
        "id": "f9rtd18mW5fT",
        "outputId": "08f7a849-bf3a-4699-bf70-18e63fab18b6"
      },
      "execution_count": null,
      "outputs": [
        {
          "output_type": "stream",
          "name": "stdout",
          "text": [
            "[[0.7  0.45]\n",
            " [0.3  0.55]]\n",
            "[[0.7  0.45]\n",
            " [0.3  0.55]]\n",
            "[[0.6 0.6]\n",
            " [0.4 0.4]]\n"
          ]
        }
      ]
    },
    {
      "cell_type": "code",
      "source": [
        "M = np.array([ [0.8, 0.3], [0.2, 0.7]])\n",
        "P, L, U = linalg.lu(M) # lệnh lina.lu sẽ tách ma trận M thành 3 ma trận P, L và U\n",
        "print (P)\n",
        "print (L)\n",
        "print (U)\n",
        "L.dot(U)\n",
        "print(L.dot(U) )\n"
      ],
      "metadata": {
        "colab": {
          "base_uri": "https://localhost:8080/"
        },
        "collapsed": true,
        "id": "Zv7alWkFXGQI",
        "outputId": "2db756c9-0719-41a1-eff6-4fb8afbb5e31"
      },
      "execution_count": null,
      "outputs": [
        {
          "output_type": "stream",
          "name": "stdout",
          "text": [
            "[[1. 0.]\n",
            " [0. 1.]]\n",
            "[[1.   0.  ]\n",
            " [0.25 1.  ]]\n",
            "[[0.8   0.3  ]\n",
            " [0.    0.625]]\n",
            "[[0.8 0.3]\n",
            " [0.2 0.7]]\n"
          ]
        }
      ]
    },
    {
      "cell_type": "code",
      "source": [
        "A = np.array([ [0,1,0,1],[0,0,1,0],[1,0,0,1],[1,1,0,0]])\n",
        "temp = A.dot(A) # lúc này temp = õ\n",
        "print(temp)\n",
        "temp = temp.dot(A) # lúc này temp = õ\n",
        "print(temp)\n",
        "A = np.array([ [0,1,0,1],[0,0,1,0],[1,0,0,1],[1,1,0,0]])\n",
        "sumA = A\n",
        "temp = A.dot(A)\n",
        "k = 3\n",
        "sumA = sumA + temp\n",
        "for i in range(1, k-1):\n",
        " temp = temp.dot(A)\n",
        " sumA = sumA + temp\n",
        "print (temp)\n",
        "print (sumA)"
      ],
      "metadata": {
        "colab": {
          "base_uri": "https://localhost:8080/"
        },
        "collapsed": true,
        "id": "hVvi7G7gXUyY",
        "outputId": "b50a4911-b275-42d6-b3f9-064b1823294b"
      },
      "execution_count": null,
      "outputs": [
        {
          "output_type": "stream",
          "name": "stdout",
          "text": [
            "[[1 1 1 0]\n",
            " [1 0 0 1]\n",
            " [1 2 0 1]\n",
            " [0 1 1 1]]\n",
            "[[1 1 1 2]\n",
            " [1 2 0 1]\n",
            " [1 2 2 1]\n",
            " [2 1 1 1]]\n",
            "[[1 1 1 2]\n",
            " [1 2 0 1]\n",
            " [1 2 2 1]\n",
            " [2 1 1 1]]\n",
            "[[2 3 2 3]\n",
            " [2 2 1 2]\n",
            " [3 4 2 3]\n",
            " [3 3 2 2]]\n"
          ]
        }
      ]
    }
  ]
}